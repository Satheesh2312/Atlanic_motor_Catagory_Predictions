{
 "cells": [
  {
   "cell_type": "code",
   "execution_count": 1,
   "metadata": {},
   "outputs": [],
   "source": [
    "import pandas as pd\n",
    "import numpy as np\n",
    "import matplotlib.pyplot as plt\n",
    "import seaborn as sns\n",
    "%matplotlib inline"
   ]
  },
  {
   "cell_type": "code",
   "execution_count": 2,
   "metadata": {},
   "outputs": [
    {
     "data": {
      "text/html": [
       "<div>\n",
       "<style scoped>\n",
       "    .dataframe tbody tr th:only-of-type {\n",
       "        vertical-align: middle;\n",
       "    }\n",
       "\n",
       "    .dataframe tbody tr th {\n",
       "        vertical-align: top;\n",
       "    }\n",
       "\n",
       "    .dataframe thead th {\n",
       "        text-align: right;\n",
       "    }\n",
       "</style>\n",
       "<table border=\"1\" class=\"dataframe\">\n",
       "  <thead>\n",
       "    <tr style=\"text-align: right;\">\n",
       "      <th></th>\n",
       "      <th>CompanyName</th>\n",
       "      <th>Financial Department</th>\n",
       "      <th>Financial AccountGroup</th>\n",
       "      <th>VendorName</th>\n",
       "      <th>Amount Month 1</th>\n",
       "      <th>Amount Month 2</th>\n",
       "      <th>Amount Month 3</th>\n",
       "      <th>Amount Month 4</th>\n",
       "      <th>Category</th>\n",
       "    </tr>\n",
       "  </thead>\n",
       "  <tbody>\n",
       "    <tr>\n",
       "      <th>0</th>\n",
       "      <td>B0</td>\n",
       "      <td>D0</td>\n",
       "      <td>C0</td>\n",
       "      <td>E0</td>\n",
       "      <td>930.076541</td>\n",
       "      <td>897.167475</td>\n",
       "      <td>855.332105</td>\n",
       "      <td>837.175251</td>\n",
       "      <td>X0</td>\n",
       "    </tr>\n",
       "    <tr>\n",
       "      <th>1</th>\n",
       "      <td>B0</td>\n",
       "      <td>D0</td>\n",
       "      <td>C0</td>\n",
       "      <td>E1</td>\n",
       "      <td>929.726216</td>\n",
       "      <td>897.167475</td>\n",
       "      <td>856.459905</td>\n",
       "      <td>837.175251</td>\n",
       "      <td>X0</td>\n",
       "    </tr>\n",
       "    <tr>\n",
       "      <th>2</th>\n",
       "      <td>B0</td>\n",
       "      <td>D0</td>\n",
       "      <td>C0</td>\n",
       "      <td>E2</td>\n",
       "      <td>930.076541</td>\n",
       "      <td>897.167475</td>\n",
       "      <td>856.459905</td>\n",
       "      <td>837.096763</td>\n",
       "      <td>X0</td>\n",
       "    </tr>\n",
       "    <tr>\n",
       "      <th>3</th>\n",
       "      <td>B0</td>\n",
       "      <td>D0</td>\n",
       "      <td>C0</td>\n",
       "      <td>E3</td>\n",
       "      <td>926.513586</td>\n",
       "      <td>897.167475</td>\n",
       "      <td>856.459905</td>\n",
       "      <td>837.175251</td>\n",
       "      <td>X0</td>\n",
       "    </tr>\n",
       "    <tr>\n",
       "      <th>4</th>\n",
       "      <td>B0</td>\n",
       "      <td>D0</td>\n",
       "      <td>C1</td>\n",
       "      <td>E4</td>\n",
       "      <td>930.076541</td>\n",
       "      <td>897.167475</td>\n",
       "      <td>856.459905</td>\n",
       "      <td>836.399490</td>\n",
       "      <td>X0</td>\n",
       "    </tr>\n",
       "  </tbody>\n",
       "</table>\n",
       "</div>"
      ],
      "text/plain": [
       "  CompanyName Financial Department Financial AccountGroup VendorName  \\\n",
       "0          B0                   D0                     C0         E0   \n",
       "1          B0                   D0                     C0         E1   \n",
       "2          B0                   D0                     C0         E2   \n",
       "3          B0                   D0                     C0         E3   \n",
       "4          B0                   D0                     C1         E4   \n",
       "\n",
       "   Amount Month 1  Amount Month 2  Amount Month 3  Amount Month 4 Category  \n",
       "0      930.076541      897.167475      855.332105      837.175251       X0  \n",
       "1      929.726216      897.167475      856.459905      837.175251       X0  \n",
       "2      930.076541      897.167475      856.459905      837.096763       X0  \n",
       "3      926.513586      897.167475      856.459905      837.175251       X0  \n",
       "4      930.076541      897.167475      856.459905      836.399490       X0  "
      ]
     },
     "execution_count": 2,
     "metadata": {},
     "output_type": "execute_result"
    }
   ],
   "source": [
    "df=pd.read_excel('Train_Data.xlsx')\n",
    "df.head()"
   ]
  },
  {
   "cell_type": "code",
   "execution_count": 3,
   "metadata": {},
   "outputs": [
    {
     "data": {
      "text/plain": [
       "(3695, 9)"
      ]
     },
     "execution_count": 3,
     "metadata": {},
     "output_type": "execute_result"
    }
   ],
   "source": [
    "df.shape"
   ]
  },
  {
   "cell_type": "code",
   "execution_count": 4,
   "metadata": {},
   "outputs": [
    {
     "data": {
      "text/plain": [
       "Index(['CompanyName', 'Financial Department', 'Financial AccountGroup',\n",
       "       'VendorName', 'Amount Month 1', 'Amount Month 2', 'Amount Month 3',\n",
       "       'Amount Month 4', 'Category'],\n",
       "      dtype='object')"
      ]
     },
     "execution_count": 4,
     "metadata": {},
     "output_type": "execute_result"
    }
   ],
   "source": [
    "df.columns"
   ]
  },
  {
   "cell_type": "code",
   "execution_count": 5,
   "metadata": {},
   "outputs": [
    {
     "data": {
      "text/plain": [
       "CompanyName                object\n",
       "Financial Department       object\n",
       "Financial AccountGroup     object\n",
       "VendorName                 object\n",
       "Amount Month 1            float64\n",
       "Amount Month 2            float64\n",
       "Amount Month 3            float64\n",
       "Amount Month 4            float64\n",
       "Category                   object\n",
       "dtype: object"
      ]
     },
     "execution_count": 5,
     "metadata": {},
     "output_type": "execute_result"
    }
   ],
   "source": [
    "df.dtypes"
   ]
  },
  {
   "cell_type": "code",
   "execution_count": 6,
   "metadata": {},
   "outputs": [
    {
     "data": {
      "text/html": [
       "<div>\n",
       "<style scoped>\n",
       "    .dataframe tbody tr th:only-of-type {\n",
       "        vertical-align: middle;\n",
       "    }\n",
       "\n",
       "    .dataframe tbody tr th {\n",
       "        vertical-align: top;\n",
       "    }\n",
       "\n",
       "    .dataframe thead th {\n",
       "        text-align: right;\n",
       "    }\n",
       "</style>\n",
       "<table border=\"1\" class=\"dataframe\">\n",
       "  <thead>\n",
       "    <tr style=\"text-align: right;\">\n",
       "      <th></th>\n",
       "      <th>count</th>\n",
       "      <th>mean</th>\n",
       "      <th>std</th>\n",
       "      <th>min</th>\n",
       "      <th>25%</th>\n",
       "      <th>50%</th>\n",
       "      <th>75%</th>\n",
       "      <th>max</th>\n",
       "    </tr>\n",
       "  </thead>\n",
       "  <tbody>\n",
       "    <tr>\n",
       "      <th>Amount Month 1</th>\n",
       "      <td>3695.0</td>\n",
       "      <td>911.810327</td>\n",
       "      <td>62.004794</td>\n",
       "      <td>0.000000e+00</td>\n",
       "      <td>928.297568</td>\n",
       "      <td>930.076541</td>\n",
       "      <td>930.076541</td>\n",
       "      <td>1163.521001</td>\n",
       "    </tr>\n",
       "    <tr>\n",
       "      <th>Amount Month 2</th>\n",
       "      <td>3694.0</td>\n",
       "      <td>886.552037</td>\n",
       "      <td>46.601370</td>\n",
       "      <td>4.821640e-14</td>\n",
       "      <td>896.140129</td>\n",
       "      <td>897.167475</td>\n",
       "      <td>897.167475</td>\n",
       "      <td>1303.063344</td>\n",
       "    </tr>\n",
       "    <tr>\n",
       "      <th>Amount Month 3</th>\n",
       "      <td>3695.0</td>\n",
       "      <td>831.308472</td>\n",
       "      <td>65.400269</td>\n",
       "      <td>0.000000e+00</td>\n",
       "      <td>843.234518</td>\n",
       "      <td>856.189903</td>\n",
       "      <td>856.459905</td>\n",
       "      <td>1237.874227</td>\n",
       "    </tr>\n",
       "    <tr>\n",
       "      <th>Amount Month 4</th>\n",
       "      <td>3694.0</td>\n",
       "      <td>814.145111</td>\n",
       "      <td>57.790724</td>\n",
       "      <td>4.821640e-14</td>\n",
       "      <td>824.806773</td>\n",
       "      <td>836.696696</td>\n",
       "      <td>837.175251</td>\n",
       "      <td>1116.250670</td>\n",
       "    </tr>\n",
       "  </tbody>\n",
       "</table>\n",
       "</div>"
      ],
      "text/plain": [
       "                 count        mean        std           min         25%  \\\n",
       "Amount Month 1  3695.0  911.810327  62.004794  0.000000e+00  928.297568   \n",
       "Amount Month 2  3694.0  886.552037  46.601370  4.821640e-14  896.140129   \n",
       "Amount Month 3  3695.0  831.308472  65.400269  0.000000e+00  843.234518   \n",
       "Amount Month 4  3694.0  814.145111  57.790724  4.821640e-14  824.806773   \n",
       "\n",
       "                       50%         75%          max  \n",
       "Amount Month 1  930.076541  930.076541  1163.521001  \n",
       "Amount Month 2  897.167475  897.167475  1303.063344  \n",
       "Amount Month 3  856.189903  856.459905  1237.874227  \n",
       "Amount Month 4  836.696696  837.175251  1116.250670  "
      ]
     },
     "execution_count": 6,
     "metadata": {},
     "output_type": "execute_result"
    }
   ],
   "source": [
    "df.describe().T"
   ]
  },
  {
   "cell_type": "code",
   "execution_count": 7,
   "metadata": {},
   "outputs": [
    {
     "name": "stdout",
     "output_type": "stream",
     "text": [
      "<class 'pandas.core.frame.DataFrame'>\n",
      "RangeIndex: 3695 entries, 0 to 3694\n",
      "Data columns (total 9 columns):\n",
      " #   Column                  Non-Null Count  Dtype  \n",
      "---  ------                  --------------  -----  \n",
      " 0   CompanyName             3695 non-null   object \n",
      " 1   Financial Department    3695 non-null   object \n",
      " 2   Financial AccountGroup  3695 non-null   object \n",
      " 3   VendorName              3695 non-null   object \n",
      " 4   Amount Month 1          3695 non-null   float64\n",
      " 5   Amount Month 2          3694 non-null   float64\n",
      " 6   Amount Month 3          3695 non-null   float64\n",
      " 7   Amount Month 4          3694 non-null   float64\n",
      " 8   Category                3695 non-null   object \n",
      "dtypes: float64(4), object(5)\n",
      "memory usage: 259.9+ KB\n"
     ]
    }
   ],
   "source": [
    "df.info()"
   ]
  },
  {
   "cell_type": "markdown",
   "metadata": {},
   "source": [
    "# Exploratory Data Analysis:"
   ]
  },
  {
   "cell_type": "markdown",
   "metadata": {},
   "source": [
    "1.Missing values\n",
    "\n",
    "2.all the numerical values\n",
    "\n",
    "3.Categorical values\n",
    "\n",
    "4.Numerical Distribution\n",
    "\n",
    "5.Cardioability of categorical variable\n",
    "\n",
    "6.Outliers\n",
    "\n",
    "7.Relationshiip between the Independent and dependent variables."
   ]
  },
  {
   "cell_type": "code",
   "execution_count": 8,
   "metadata": {},
   "outputs": [
    {
     "data": {
      "text/plain": [
       "CompanyName               0\n",
       "Financial Department      0\n",
       "Financial AccountGroup    0\n",
       "VendorName                0\n",
       "Amount Month 1            0\n",
       "Amount Month 2            1\n",
       "Amount Month 3            0\n",
       "Amount Month 4            1\n",
       "Category                  0\n",
       "dtype: int64"
      ]
     },
     "execution_count": 8,
     "metadata": {},
     "output_type": "execute_result"
    }
   ],
   "source": [
    "df.isnull().sum()"
   ]
  },
  {
   "cell_type": "code",
   "execution_count": 9,
   "metadata": {},
   "outputs": [],
   "source": [
    "df.dropna(inplace=True)"
   ]
  },
  {
   "cell_type": "code",
   "execution_count": 10,
   "metadata": {},
   "outputs": [
    {
     "data": {
      "text/plain": [
       "CompanyName               0\n",
       "Financial Department      0\n",
       "Financial AccountGroup    0\n",
       "VendorName                0\n",
       "Amount Month 1            0\n",
       "Amount Month 2            0\n",
       "Amount Month 3            0\n",
       "Amount Month 4            0\n",
       "Category                  0\n",
       "dtype: int64"
      ]
     },
     "execution_count": 10,
     "metadata": {},
     "output_type": "execute_result"
    }
   ],
   "source": [
    "df.isnull().sum()"
   ]
  },
  {
   "cell_type": "code",
   "execution_count": 11,
   "metadata": {},
   "outputs": [
    {
     "data": {
      "text/plain": [
       "Text(0.5, 1.0, 'Dept vs Amount')"
      ]
     },
     "execution_count": 11,
     "metadata": {},
     "output_type": "execute_result"
    },
    {
     "data": {
      "image/png": "[encoded data removed]",
      "text/plain": [
       "<Figure size 432x288 with 1 Axes>"
      ]
     },
     "metadata": {
      "needs_background": "light"
     },
     "output_type": "display_data"
    }
   ],
   "source": [
    "## Relation between different department and the amount:\n",
    "\n",
    "df.groupby('Financial Department')['Amount Month 1'].median().plot()\n",
    "plt.xlabel('Financial_Department')\n",
    "plt.ylabel('Median of Amount price')\n",
    "plt.title('Dept vs Amount')"
   ]
  },
  {
   "cell_type": "code",
   "execution_count": 12,
   "metadata": {},
   "outputs": [
    {
     "data": {
      "text/plain": [
       "['CompanyName',\n",
       " 'Financial Department',\n",
       " 'Financial AccountGroup',\n",
       " 'VendorName',\n",
       " 'Category']"
      ]
     },
     "execution_count": 12,
     "metadata": {},
     "output_type": "execute_result"
    }
   ],
   "source": [
    "categorical_features= [features for features in df.columns if df[features].dtypes =='O']\n",
    "categorical_features"
   ]
  },
  {
   "cell_type": "code",
   "execution_count": 13,
   "metadata": {},
   "outputs": [
    {
     "data": {
      "image/png": "[encoded data removed]",
      "text/plain": [
       "<Figure size 432x288 with 1 Axes>"
      ]
     },
     "metadata": {
      "needs_background": "light"
     },
     "output_type": "display_data"
    },
    {
     "data": {
      "image/png": "[encoded data removed]",
      "text/plain": [
       "<Figure size 432x288 with 1 Axes>"
      ]
     },
     "metadata": {
      "needs_background": "light"
     },
     "output_type": "display_data"
    },
    {
     "data": {
      "image/png": "[encoded data removed]",
      "text/plain": [
       "<Figure size 432x288 with 1 Axes>"
      ]
     },
     "metadata": {
      "needs_background": "light"
     },
     "output_type": "display_data"
    },
    {
     "data": {
      "image/png": "[encoded data removed]",
      "text/plain": [
       "<Figure size 432x288 with 1 Axes>"
      ]
     },
     "metadata": {
      "needs_background": "light"
     },
     "output_type": "display_data"
    },
    {
     "data": {
      "image/png": "[encoded data removed]",
      "text/plain": [
       "<Figure size 432x288 with 1 Axes>"
      ]
     },
     "metadata": {
      "needs_background": "light"
     },
     "output_type": "display_data"
    }
   ],
   "source": [
    "# relation between the Amount_Month_1 Vs Department:\n",
    "\n",
    "for features in categorical_features:\n",
    "    data=df.copy()\n",
    "    data.groupby(features)['Amount Month 1'].mean().plot.bar()\n",
    "    plt.xlabel(features)\n",
    "    plt.ylabel('Amount Month 1')\n",
    "    plt.title(features)\n",
    "    plt.show()"
   ]
  },
  {
   "cell_type": "code",
   "execution_count": 14,
   "metadata": {},
   "outputs": [
    {
     "data": {
      "image/png": "[encoded data removed]",
      "text/plain": [
       "<Figure size 432x288 with 1 Axes>"
      ]
     },
     "metadata": {
      "needs_background": "light"
     },
     "output_type": "display_data"
    },
    {
     "data": {
      "image/png": "[encoded data removed]",
      "text/plain": [
       "<Figure size 432x288 with 1 Axes>"
      ]
     },
     "metadata": {
      "needs_background": "light"
     },
     "output_type": "display_data"
    },
    {
     "data": {
      "image/png": "[encoded data removed]",
      "text/plain": [
       "<Figure size 432x288 with 1 Axes>"
      ]
     },
     "metadata": {
      "needs_background": "light"
     },
     "output_type": "display_data"
    },
    {
     "data": {
      "image/png": "[encoded data removed]",
      "text/plain": [
       "<Figure size 432x288 with 1 Axes>"
      ]
     },
     "metadata": {
      "needs_background": "light"
     },
     "output_type": "display_data"
    },
    {
     "data": {
      "image/png": "[encoded data removed]",
      "text/plain": [
       "<Figure size 432x288 with 1 Axes>"
      ]
     },
     "metadata": {
      "needs_background": "light"
     },
     "output_type": "display_data"
    }
   ],
   "source": [
    "for features in categorical_features:\n",
    "    data=df.copy()\n",
    "    data.groupby(features)['Amount Month 2'].mean().plot.bar()\n",
    "    plt.xlabel(features)\n",
    "    plt.ylabel('Amount Month 2')\n",
    "    plt.title(features)\n",
    "    plt.show()"
   ]
  },
  {
   "cell_type": "code",
   "execution_count": 15,
   "metadata": {},
   "outputs": [
    {
     "name": "stdout",
     "output_type": "stream",
     "text": [
      "['B0' 'B1' 'B2' 'B3' 'B4' 'B5']\n",
      "['D0' 'D1' 'D2' 'D3' 'D4' 'D5' 'D6' 'D7' 'D8' 'D9' 'D10' 'D11' 'D12' 'D13'\n",
      " 'D14' 'D15' 'D16' 'D17' 'D18' 'D19' 'D20' 'D21' 'D22']\n",
      "['C0' 'C1' 'C2' 'C3' 'C4' 'C5' 'C6' 'C7' 'C8' 'C9' 'C10' 'C11' 'C12']\n",
      "['E0' 'E1' 'E2' ... 'E1290' 'E1291' 'E1292']\n",
      "['X0' 'X1' 'X2' 'X3' 'X4']\n"
     ]
    }
   ],
   "source": [
    "for features in categorical_features:\n",
    "    print(df[features].unique())"
   ]
  },
  {
   "cell_type": "code",
   "execution_count": 16,
   "metadata": {},
   "outputs": [
    {
     "data": {
      "text/plain": [
       "VendorName\n",
       "E0       930.076541\n",
       "E1       929.726216\n",
       "E10      929.978383\n",
       "E100     839.154200\n",
       "E1000    928.357161\n",
       "            ...    \n",
       "E995     928.964922\n",
       "E996     929.531936\n",
       "E997     912.853520\n",
       "E998     985.294034\n",
       "E999     927.739648\n",
       "Name: Amount Month 1, Length: 1292, dtype: float64"
      ]
     },
     "execution_count": 16,
     "metadata": {},
     "output_type": "execute_result"
    }
   ],
   "source": [
    "df.groupby('VendorName')['Amount Month 1'].mean()"
   ]
  },
  {
   "cell_type": "code",
   "execution_count": 17,
   "metadata": {},
   "outputs": [
    {
     "name": "stdout",
     "output_type": "stream",
     "text": [
      "CompanyName\n",
      "B0    913.121906\n",
      "B1    902.341512\n",
      "B2    897.975862\n",
      "B3    921.059050\n",
      "B4    908.615764\n",
      "B5    922.606202\n",
      "Name: Amount Month 1, dtype: float64\n",
      "Financial Department\n",
      "D0     887.372941\n",
      "D1     916.372822\n",
      "D10    930.076541\n",
      "D11    930.076541\n",
      "D12    930.076541\n",
      "D13    930.076541\n",
      "D14    930.076541\n",
      "D15    930.076541\n",
      "D16    930.076541\n",
      "D17    930.076541\n",
      "D18    914.570292\n",
      "D19    930.076541\n",
      "D2     905.741332\n",
      "D20    930.076541\n",
      "D21    930.076541\n",
      "D22    930.076541\n",
      "D3     871.889767\n",
      "D4     847.534166\n",
      "D5     910.876023\n",
      "D6     872.275144\n",
      "D7     913.900805\n",
      "D8     923.534622\n",
      "D9     898.215791\n",
      "Name: Amount Month 1, dtype: float64\n",
      "Financial AccountGroup\n",
      "C0     924.275986\n",
      "C1     909.703546\n",
      "C10    923.694253\n",
      "C11    930.076541\n",
      "C12    930.076541\n",
      "C2     920.312167\n",
      "C3     920.806970\n",
      "C4     892.686808\n",
      "C5     916.391937\n",
      "C6     908.292332\n",
      "C7     918.652827\n",
      "C8     917.367745\n",
      "C9     847.534166\n",
      "Name: Amount Month 1, dtype: float64\n",
      "VendorName\n",
      "E0       930.076541\n",
      "E1       929.726216\n",
      "E10      929.978383\n",
      "E100     839.154200\n",
      "E1000    928.357161\n",
      "            ...    \n",
      "E995     928.964922\n",
      "E996     929.531936\n",
      "E997     912.853520\n",
      "E998     985.294034\n",
      "E999     927.739648\n",
      "Name: Amount Month 1, Length: 1292, dtype: float64\n",
      "Category\n",
      "X0    913.674429\n",
      "X1    912.921262\n",
      "X2    921.909810\n",
      "X3    885.632624\n",
      "X4    785.383358\n",
      "Name: Amount Month 1, dtype: float64\n"
     ]
    }
   ],
   "source": [
    "for features in categorical_features:\n",
    "    print(df.groupby(features)['Amount Month 1'].mean())"
   ]
  },
  {
   "cell_type": "code",
   "execution_count": 18,
   "metadata": {},
   "outputs": [
    {
     "data": {
      "text/plain": [
       "(array(['X0', 'X1', 'X2', 'X3', 'X4'], dtype=object),\n",
       " array([3136,  231,  117,  194,   15], dtype=int64))"
      ]
     },
     "execution_count": 18,
     "metadata": {},
     "output_type": "execute_result"
    }
   ],
   "source": [
    "np.unique(df['Category'],return_counts=True)"
   ]
  },
  {
   "cell_type": "code",
   "execution_count": 19,
   "metadata": {},
   "outputs": [
    {
     "data": {
      "text/plain": [
       "['Amount Month 1', 'Amount Month 2', 'Amount Month 3', 'Amount Month 4']"
      ]
     },
     "execution_count": 19,
     "metadata": {},
     "output_type": "execute_result"
    }
   ],
   "source": [
    "discrete_feature=[features for features in df.columns if df[features].dtypes ==\"float64\"]\n",
    "discrete_feature"
   ]
  },
  {
   "cell_type": "code",
   "execution_count": 20,
   "metadata": {},
   "outputs": [
    {
     "data": {
      "text/plain": [
       "<Figure size 1440x720 with 0 Axes>"
      ]
     },
     "metadata": {},
     "output_type": "display_data"
    },
    {
     "data": {
      "image/png": "[encoded data removed]",
      "text/plain": [
       "<Figure size 2880x720 with 1 Axes>"
      ]
     },
     "metadata": {
      "needs_background": "light"
     },
     "output_type": "display_data"
    },
    {
     "data": {
      "image/png": "[encoded data removed]",
      "text/plain": [
       "<Figure size 2880x720 with 1 Axes>"
      ]
     },
     "metadata": {
      "needs_background": "light"
     },
     "output_type": "display_data"
    },
    {
     "data": {
      "image/png": "[encoded data removed]",
      "text/plain": [
       "<Figure size 2880x720 with 1 Axes>"
      ]
     },
     "metadata": {
      "needs_background": "light"
     },
     "output_type": "display_data"
    },
    {
     "data": {
      "image/png": "[encoded data removed]",
      "text/plain": [
       "<Figure size 2880x720 with 1 Axes>"
      ]
     },
     "metadata": {
      "needs_background": "light"
     },
     "output_type": "display_data"
    }
   ],
   "source": [
    "plt.figure(figsize=(20,10))\n",
    "for features in discrete_feature:\n",
    "    data=df.copy()\n",
    "    sns.catplot(x='Category',y= features,data=df,height=10,aspect=4,kind='violin',margin_titles=True)\n",
    "    plt.xlabel(features)\n",
    "    plt.ylabel('Category')\n",
    "    plt.title(features)\n",
    "    plt.show()"
   ]
  },
  {
   "cell_type": "code",
   "execution_count": 21,
   "metadata": {},
   "outputs": [],
   "source": [
    "def df_Encode(df):\n",
    "    for column in df.columns[~df.columns.isin(['Amount Month 1','Amount Month 2','Amount Month 3','Amount Month 4'])]:\n",
    "        df[column]=df[column].factorize()[0] ## Factorize method is used for numerical representation\n",
    "                                                        ##of an array having categorical features\n",
    "    return df\n",
    "df_copy=df_Encode(df.copy())"
   ]
  },
  {
   "cell_type": "code",
   "execution_count": 22,
   "metadata": {},
   "outputs": [
    {
     "data": {
      "text/html": [
       "<div>\n",
       "<style scoped>\n",
       "    .dataframe tbody tr th:only-of-type {\n",
       "        vertical-align: middle;\n",
       "    }\n",
       "\n",
       "    .dataframe tbody tr th {\n",
       "        vertical-align: top;\n",
       "    }\n",
       "\n",
       "    .dataframe thead th {\n",
       "        text-align: right;\n",
       "    }\n",
       "</style>\n",
       "<table border=\"1\" class=\"dataframe\">\n",
       "  <thead>\n",
       "    <tr style=\"text-align: right;\">\n",
       "      <th></th>\n",
       "      <th>CompanyName</th>\n",
       "      <th>Financial Department</th>\n",
       "      <th>Financial AccountGroup</th>\n",
       "      <th>VendorName</th>\n",
       "      <th>Amount Month 1</th>\n",
       "      <th>Amount Month 2</th>\n",
       "      <th>Amount Month 3</th>\n",
       "      <th>Amount Month 4</th>\n",
       "      <th>Category</th>\n",
       "    </tr>\n",
       "  </thead>\n",
       "  <tbody>\n",
       "    <tr>\n",
       "      <th>0</th>\n",
       "      <td>0</td>\n",
       "      <td>0</td>\n",
       "      <td>0</td>\n",
       "      <td>0</td>\n",
       "      <td>930.076541</td>\n",
       "      <td>897.167475</td>\n",
       "      <td>855.332105</td>\n",
       "      <td>837.175251</td>\n",
       "      <td>0</td>\n",
       "    </tr>\n",
       "    <tr>\n",
       "      <th>1</th>\n",
       "      <td>0</td>\n",
       "      <td>0</td>\n",
       "      <td>0</td>\n",
       "      <td>1</td>\n",
       "      <td>929.726216</td>\n",
       "      <td>897.167475</td>\n",
       "      <td>856.459905</td>\n",
       "      <td>837.175251</td>\n",
       "      <td>0</td>\n",
       "    </tr>\n",
       "    <tr>\n",
       "      <th>2</th>\n",
       "      <td>0</td>\n",
       "      <td>0</td>\n",
       "      <td>0</td>\n",
       "      <td>2</td>\n",
       "      <td>930.076541</td>\n",
       "      <td>897.167475</td>\n",
       "      <td>856.459905</td>\n",
       "      <td>837.096763</td>\n",
       "      <td>0</td>\n",
       "    </tr>\n",
       "    <tr>\n",
       "      <th>3</th>\n",
       "      <td>0</td>\n",
       "      <td>0</td>\n",
       "      <td>0</td>\n",
       "      <td>3</td>\n",
       "      <td>926.513586</td>\n",
       "      <td>897.167475</td>\n",
       "      <td>856.459905</td>\n",
       "      <td>837.175251</td>\n",
       "      <td>0</td>\n",
       "    </tr>\n",
       "    <tr>\n",
       "      <th>4</th>\n",
       "      <td>0</td>\n",
       "      <td>0</td>\n",
       "      <td>1</td>\n",
       "      <td>4</td>\n",
       "      <td>930.076541</td>\n",
       "      <td>897.167475</td>\n",
       "      <td>856.459905</td>\n",
       "      <td>836.399490</td>\n",
       "      <td>0</td>\n",
       "    </tr>\n",
       "  </tbody>\n",
       "</table>\n",
       "</div>"
      ],
      "text/plain": [
       "   CompanyName  Financial Department  Financial AccountGroup  VendorName  \\\n",
       "0            0                     0                       0           0   \n",
       "1            0                     0                       0           1   \n",
       "2            0                     0                       0           2   \n",
       "3            0                     0                       0           3   \n",
       "4            0                     0                       1           4   \n",
       "\n",
       "   Amount Month 1  Amount Month 2  Amount Month 3  Amount Month 4  Category  \n",
       "0      930.076541      897.167475      855.332105      837.175251         0  \n",
       "1      929.726216      897.167475      856.459905      837.175251         0  \n",
       "2      930.076541      897.167475      856.459905      837.096763         0  \n",
       "3      926.513586      897.167475      856.459905      837.175251         0  \n",
       "4      930.076541      897.167475      856.459905      836.399490         0  "
      ]
     },
     "execution_count": 22,
     "metadata": {},
     "output_type": "execute_result"
    }
   ],
   "source": [
    "df_copy.head()"
   ]
  },
  {
   "cell_type": "code",
   "execution_count": 23,
   "metadata": {},
   "outputs": [
    {
     "data": {
      "text/plain": [
       "CompanyName               0\n",
       "Financial Department      0\n",
       "Financial AccountGroup    0\n",
       "VendorName                0\n",
       "Amount Month 1            0\n",
       "Amount Month 2            0\n",
       "Amount Month 3            0\n",
       "Amount Month 4            0\n",
       "Category                  0\n",
       "dtype: int64"
      ]
     },
     "execution_count": 23,
     "metadata": {},
     "output_type": "execute_result"
    }
   ],
   "source": [
    "df_copy.isnull().sum()"
   ]
  },
  {
   "cell_type": "markdown",
   "metadata": {},
   "source": [
    "# EDA for Test Data aslo:"
   ]
  },
  {
   "cell_type": "code",
   "execution_count": 24,
   "metadata": {},
   "outputs": [
    {
     "data": {
      "text/html": [
       "<div>\n",
       "<style scoped>\n",
       "    .dataframe tbody tr th:only-of-type {\n",
       "        vertical-align: middle;\n",
       "    }\n",
       "\n",
       "    .dataframe tbody tr th {\n",
       "        vertical-align: top;\n",
       "    }\n",
       "\n",
       "    .dataframe thead th {\n",
       "        text-align: right;\n",
       "    }\n",
       "</style>\n",
       "<table border=\"1\" class=\"dataframe\">\n",
       "  <thead>\n",
       "    <tr style=\"text-align: right;\">\n",
       "      <th></th>\n",
       "      <th>CompanyName</th>\n",
       "      <th>Financial Department</th>\n",
       "      <th>Financial AccountGroup</th>\n",
       "      <th>VendorName</th>\n",
       "      <th>Amount Month 1</th>\n",
       "      <th>Amount Month 2</th>\n",
       "      <th>Amount Month 3</th>\n",
       "      <th>Amount Month 4</th>\n",
       "      <th>Category</th>\n",
       "    </tr>\n",
       "  </thead>\n",
       "  <tbody>\n",
       "    <tr>\n",
       "      <th>0</th>\n",
       "      <td>B6</td>\n",
       "      <td>D1</td>\n",
       "      <td>C0</td>\n",
       "      <td>E134</td>\n",
       "      <td>930.076541</td>\n",
       "      <td>897.003874</td>\n",
       "      <td>856.459905</td>\n",
       "      <td>837.175251</td>\n",
       "      <td>NaN</td>\n",
       "    </tr>\n",
       "    <tr>\n",
       "      <th>1</th>\n",
       "      <td>B6</td>\n",
       "      <td>D1</td>\n",
       "      <td>C0</td>\n",
       "      <td>E1293</td>\n",
       "      <td>930.076541</td>\n",
       "      <td>888.450556</td>\n",
       "      <td>836.995193</td>\n",
       "      <td>818.672007</td>\n",
       "      <td>NaN</td>\n",
       "    </tr>\n",
       "    <tr>\n",
       "      <th>2</th>\n",
       "      <td>B6</td>\n",
       "      <td>D1</td>\n",
       "      <td>C0</td>\n",
       "      <td>E390</td>\n",
       "      <td>930.076541</td>\n",
       "      <td>895.639633</td>\n",
       "      <td>856.459905</td>\n",
       "      <td>837.175251</td>\n",
       "      <td>NaN</td>\n",
       "    </tr>\n",
       "    <tr>\n",
       "      <th>3</th>\n",
       "      <td>B6</td>\n",
       "      <td>D1</td>\n",
       "      <td>C0</td>\n",
       "      <td>E1294</td>\n",
       "      <td>930.076541</td>\n",
       "      <td>897.167475</td>\n",
       "      <td>856.459905</td>\n",
       "      <td>837.175251</td>\n",
       "      <td>NaN</td>\n",
       "    </tr>\n",
       "    <tr>\n",
       "      <th>4</th>\n",
       "      <td>B6</td>\n",
       "      <td>D1</td>\n",
       "      <td>C0</td>\n",
       "      <td>E1295</td>\n",
       "      <td>930.076541</td>\n",
       "      <td>897.167475</td>\n",
       "      <td>853.612419</td>\n",
       "      <td>837.175251</td>\n",
       "      <td>NaN</td>\n",
       "    </tr>\n",
       "  </tbody>\n",
       "</table>\n",
       "</div>"
      ],
      "text/plain": [
       "  CompanyName Financial Department Financial AccountGroup VendorName  \\\n",
       "0          B6                   D1                     C0       E134   \n",
       "1          B6                   D1                     C0      E1293   \n",
       "2          B6                   D1                     C0       E390   \n",
       "3          B6                   D1                     C0      E1294   \n",
       "4          B6                   D1                     C0      E1295   \n",
       "\n",
       "   Amount Month 1  Amount Month 2  Amount Month 3  Amount Month 4  Category  \n",
       "0      930.076541      897.003874      856.459905      837.175251       NaN  \n",
       "1      930.076541      888.450556      836.995193      818.672007       NaN  \n",
       "2      930.076541      895.639633      856.459905      837.175251       NaN  \n",
       "3      930.076541      897.167475      856.459905      837.175251       NaN  \n",
       "4      930.076541      897.167475      853.612419      837.175251       NaN  "
      ]
     },
     "execution_count": 24,
     "metadata": {},
     "output_type": "execute_result"
    }
   ],
   "source": [
    "df1=pd.read_excel('Test_Data.xlsx')\n",
    "df1.head()"
   ]
  },
  {
   "cell_type": "code",
   "execution_count": 25,
   "metadata": {},
   "outputs": [],
   "source": [
    "df1.drop('Category',axis=1,inplace=True)"
   ]
  },
  {
   "cell_type": "code",
   "execution_count": 26,
   "metadata": {},
   "outputs": [
    {
     "data": {
      "text/html": [
       "<div>\n",
       "<style scoped>\n",
       "    .dataframe tbody tr th:only-of-type {\n",
       "        vertical-align: middle;\n",
       "    }\n",
       "\n",
       "    .dataframe tbody tr th {\n",
       "        vertical-align: top;\n",
       "    }\n",
       "\n",
       "    .dataframe thead th {\n",
       "        text-align: right;\n",
       "    }\n",
       "</style>\n",
       "<table border=\"1\" class=\"dataframe\">\n",
       "  <thead>\n",
       "    <tr style=\"text-align: right;\">\n",
       "      <th></th>\n",
       "      <th>CompanyName</th>\n",
       "      <th>Financial Department</th>\n",
       "      <th>Financial AccountGroup</th>\n",
       "      <th>VendorName</th>\n",
       "      <th>Amount Month 1</th>\n",
       "      <th>Amount Month 2</th>\n",
       "      <th>Amount Month 3</th>\n",
       "      <th>Amount Month 4</th>\n",
       "    </tr>\n",
       "  </thead>\n",
       "  <tbody>\n",
       "    <tr>\n",
       "      <th>0</th>\n",
       "      <td>B6</td>\n",
       "      <td>D1</td>\n",
       "      <td>C0</td>\n",
       "      <td>E134</td>\n",
       "      <td>930.076541</td>\n",
       "      <td>897.003874</td>\n",
       "      <td>856.459905</td>\n",
       "      <td>837.175251</td>\n",
       "    </tr>\n",
       "    <tr>\n",
       "      <th>1</th>\n",
       "      <td>B6</td>\n",
       "      <td>D1</td>\n",
       "      <td>C0</td>\n",
       "      <td>E1293</td>\n",
       "      <td>930.076541</td>\n",
       "      <td>888.450556</td>\n",
       "      <td>836.995193</td>\n",
       "      <td>818.672007</td>\n",
       "    </tr>\n",
       "    <tr>\n",
       "      <th>2</th>\n",
       "      <td>B6</td>\n",
       "      <td>D1</td>\n",
       "      <td>C0</td>\n",
       "      <td>E390</td>\n",
       "      <td>930.076541</td>\n",
       "      <td>895.639633</td>\n",
       "      <td>856.459905</td>\n",
       "      <td>837.175251</td>\n",
       "    </tr>\n",
       "    <tr>\n",
       "      <th>3</th>\n",
       "      <td>B6</td>\n",
       "      <td>D1</td>\n",
       "      <td>C0</td>\n",
       "      <td>E1294</td>\n",
       "      <td>930.076541</td>\n",
       "      <td>897.167475</td>\n",
       "      <td>856.459905</td>\n",
       "      <td>837.175251</td>\n",
       "    </tr>\n",
       "    <tr>\n",
       "      <th>4</th>\n",
       "      <td>B6</td>\n",
       "      <td>D1</td>\n",
       "      <td>C0</td>\n",
       "      <td>E1295</td>\n",
       "      <td>930.076541</td>\n",
       "      <td>897.167475</td>\n",
       "      <td>853.612419</td>\n",
       "      <td>837.175251</td>\n",
       "    </tr>\n",
       "  </tbody>\n",
       "</table>\n",
       "</div>"
      ],
      "text/plain": [
       "  CompanyName Financial Department Financial AccountGroup VendorName  \\\n",
       "0          B6                   D1                     C0       E134   \n",
       "1          B6                   D1                     C0      E1293   \n",
       "2          B6                   D1                     C0       E390   \n",
       "3          B6                   D1                     C0      E1294   \n",
       "4          B6                   D1                     C0      E1295   \n",
       "\n",
       "   Amount Month 1  Amount Month 2  Amount Month 3  Amount Month 4  \n",
       "0      930.076541      897.003874      856.459905      837.175251  \n",
       "1      930.076541      888.450556      836.995193      818.672007  \n",
       "2      930.076541      895.639633      856.459905      837.175251  \n",
       "3      930.076541      897.167475      856.459905      837.175251  \n",
       "4      930.076541      897.167475      853.612419      837.175251  "
      ]
     },
     "execution_count": 26,
     "metadata": {},
     "output_type": "execute_result"
    }
   ],
   "source": [
    "df1.head()"
   ]
  },
  {
   "cell_type": "code",
   "execution_count": 27,
   "metadata": {},
   "outputs": [
    {
     "data": {
      "text/plain": [
       "CompanyName               0\n",
       "Financial Department      0\n",
       "Financial AccountGroup    0\n",
       "VendorName                0\n",
       "Amount Month 1            3\n",
       "Amount Month 2            0\n",
       "Amount Month 3            2\n",
       "Amount Month 4            0\n",
       "dtype: int64"
      ]
     },
     "execution_count": 27,
     "metadata": {},
     "output_type": "execute_result"
    }
   ],
   "source": [
    "df1.isnull().sum()"
   ]
  },
  {
   "cell_type": "code",
   "execution_count": 28,
   "metadata": {},
   "outputs": [],
   "source": [
    "df1['Amount Month 1']=df1['Amount Month 1'].fillna(df1['Amount Month 1'].mean(),axis=0)\n",
    "df1['Amount Month 3']=df1['Amount Month 3'].fillna(df1['Amount Month 3'].mean(),axis=0)"
   ]
  },
  {
   "cell_type": "code",
   "execution_count": 29,
   "metadata": {},
   "outputs": [
    {
     "data": {
      "text/plain": [
       "CompanyName               0\n",
       "Financial Department      0\n",
       "Financial AccountGroup    0\n",
       "VendorName                0\n",
       "Amount Month 1            0\n",
       "Amount Month 2            0\n",
       "Amount Month 3            0\n",
       "Amount Month 4            0\n",
       "dtype: int64"
      ]
     },
     "execution_count": 29,
     "metadata": {},
     "output_type": "execute_result"
    }
   ],
   "source": [
    "df1.isnull().sum()"
   ]
  },
  {
   "cell_type": "code",
   "execution_count": 30,
   "metadata": {},
   "outputs": [],
   "source": [
    "def df1_Encode(df1):\n",
    "    for column in df1.columns[~df1.columns.isin(['Amount Month 1','Amount Month 2','Amount Month 3','Amount Month 4'])]:\n",
    "        df1[column]=df1[column].factorize()[0] ## Factorize method is used for numerical representation\n",
    "                                                        ##of an array having categorical features\n",
    "    return df1\n",
    "df1_copy=df1_Encode(df1.copy())"
   ]
  },
  {
   "cell_type": "code",
   "execution_count": 31,
   "metadata": {},
   "outputs": [
    {
     "data": {
      "text/html": [
       "<div>\n",
       "<style scoped>\n",
       "    .dataframe tbody tr th:only-of-type {\n",
       "        vertical-align: middle;\n",
       "    }\n",
       "\n",
       "    .dataframe tbody tr th {\n",
       "        vertical-align: top;\n",
       "    }\n",
       "\n",
       "    .dataframe thead th {\n",
       "        text-align: right;\n",
       "    }\n",
       "</style>\n",
       "<table border=\"1\" class=\"dataframe\">\n",
       "  <thead>\n",
       "    <tr style=\"text-align: right;\">\n",
       "      <th></th>\n",
       "      <th>CompanyName</th>\n",
       "      <th>Financial Department</th>\n",
       "      <th>Financial AccountGroup</th>\n",
       "      <th>VendorName</th>\n",
       "      <th>Amount Month 1</th>\n",
       "      <th>Amount Month 2</th>\n",
       "      <th>Amount Month 3</th>\n",
       "      <th>Amount Month 4</th>\n",
       "    </tr>\n",
       "  </thead>\n",
       "  <tbody>\n",
       "    <tr>\n",
       "      <th>0</th>\n",
       "      <td>0</td>\n",
       "      <td>0</td>\n",
       "      <td>0</td>\n",
       "      <td>0</td>\n",
       "      <td>930.076541</td>\n",
       "      <td>897.003874</td>\n",
       "      <td>856.459905</td>\n",
       "      <td>837.175251</td>\n",
       "    </tr>\n",
       "    <tr>\n",
       "      <th>1</th>\n",
       "      <td>0</td>\n",
       "      <td>0</td>\n",
       "      <td>0</td>\n",
       "      <td>1</td>\n",
       "      <td>930.076541</td>\n",
       "      <td>888.450556</td>\n",
       "      <td>836.995193</td>\n",
       "      <td>818.672007</td>\n",
       "    </tr>\n",
       "    <tr>\n",
       "      <th>2</th>\n",
       "      <td>0</td>\n",
       "      <td>0</td>\n",
       "      <td>0</td>\n",
       "      <td>2</td>\n",
       "      <td>930.076541</td>\n",
       "      <td>895.639633</td>\n",
       "      <td>856.459905</td>\n",
       "      <td>837.175251</td>\n",
       "    </tr>\n",
       "    <tr>\n",
       "      <th>3</th>\n",
       "      <td>0</td>\n",
       "      <td>0</td>\n",
       "      <td>0</td>\n",
       "      <td>3</td>\n",
       "      <td>930.076541</td>\n",
       "      <td>897.167475</td>\n",
       "      <td>856.459905</td>\n",
       "      <td>837.175251</td>\n",
       "    </tr>\n",
       "    <tr>\n",
       "      <th>4</th>\n",
       "      <td>0</td>\n",
       "      <td>0</td>\n",
       "      <td>0</td>\n",
       "      <td>4</td>\n",
       "      <td>930.076541</td>\n",
       "      <td>897.167475</td>\n",
       "      <td>853.612419</td>\n",
       "      <td>837.175251</td>\n",
       "    </tr>\n",
       "  </tbody>\n",
       "</table>\n",
       "</div>"
      ],
      "text/plain": [
       "   CompanyName  Financial Department  Financial AccountGroup  VendorName  \\\n",
       "0            0                     0                       0           0   \n",
       "1            0                     0                       0           1   \n",
       "2            0                     0                       0           2   \n",
       "3            0                     0                       0           3   \n",
       "4            0                     0                       0           4   \n",
       "\n",
       "   Amount Month 1  Amount Month 2  Amount Month 3  Amount Month 4  \n",
       "0      930.076541      897.003874      856.459905      837.175251  \n",
       "1      930.076541      888.450556      836.995193      818.672007  \n",
       "2      930.076541      895.639633      856.459905      837.175251  \n",
       "3      930.076541      897.167475      856.459905      837.175251  \n",
       "4      930.076541      897.167475      853.612419      837.175251  "
      ]
     },
     "execution_count": 31,
     "metadata": {},
     "output_type": "execute_result"
    }
   ],
   "source": [
    "df1_copy.head()"
   ]
  },
  {
   "cell_type": "markdown",
   "metadata": {},
   "source": [
    "# Feature Selections:\n",
    "\n",
    "Which Contribute have a good relation with target variables:\n",
    "\n",
    "1. heatmap\n",
    "2. Feature_importance\n",
    "3. SelectKBest"
   ]
  },
  {
   "cell_type": "code",
   "execution_count": 32,
   "metadata": {},
   "outputs": [],
   "source": [
    "# Splitting the X and Y datasets:\n",
    "\n",
    "X=df_copy.drop('Category',axis=1)\n",
    "y=df_copy['Category']"
   ]
  },
  {
   "cell_type": "code",
   "execution_count": 33,
   "metadata": {},
   "outputs": [
    {
     "data": {
      "text/html": [
       "<div>\n",
       "<style scoped>\n",
       "    .dataframe tbody tr th:only-of-type {\n",
       "        vertical-align: middle;\n",
       "    }\n",
       "\n",
       "    .dataframe tbody tr th {\n",
       "        vertical-align: top;\n",
       "    }\n",
       "\n",
       "    .dataframe thead th {\n",
       "        text-align: right;\n",
       "    }\n",
       "</style>\n",
       "<table border=\"1\" class=\"dataframe\">\n",
       "  <thead>\n",
       "    <tr style=\"text-align: right;\">\n",
       "      <th></th>\n",
       "      <th>CompanyName</th>\n",
       "      <th>Financial Department</th>\n",
       "      <th>Financial AccountGroup</th>\n",
       "      <th>VendorName</th>\n",
       "      <th>Amount Month 1</th>\n",
       "      <th>Amount Month 2</th>\n",
       "      <th>Amount Month 3</th>\n",
       "      <th>Amount Month 4</th>\n",
       "    </tr>\n",
       "  </thead>\n",
       "  <tbody>\n",
       "    <tr>\n",
       "      <th>0</th>\n",
       "      <td>0</td>\n",
       "      <td>0</td>\n",
       "      <td>0</td>\n",
       "      <td>0</td>\n",
       "      <td>930.076541</td>\n",
       "      <td>897.167475</td>\n",
       "      <td>855.332105</td>\n",
       "      <td>837.175251</td>\n",
       "    </tr>\n",
       "    <tr>\n",
       "      <th>1</th>\n",
       "      <td>0</td>\n",
       "      <td>0</td>\n",
       "      <td>0</td>\n",
       "      <td>1</td>\n",
       "      <td>929.726216</td>\n",
       "      <td>897.167475</td>\n",
       "      <td>856.459905</td>\n",
       "      <td>837.175251</td>\n",
       "    </tr>\n",
       "    <tr>\n",
       "      <th>2</th>\n",
       "      <td>0</td>\n",
       "      <td>0</td>\n",
       "      <td>0</td>\n",
       "      <td>2</td>\n",
       "      <td>930.076541</td>\n",
       "      <td>897.167475</td>\n",
       "      <td>856.459905</td>\n",
       "      <td>837.096763</td>\n",
       "    </tr>\n",
       "    <tr>\n",
       "      <th>3</th>\n",
       "      <td>0</td>\n",
       "      <td>0</td>\n",
       "      <td>0</td>\n",
       "      <td>3</td>\n",
       "      <td>926.513586</td>\n",
       "      <td>897.167475</td>\n",
       "      <td>856.459905</td>\n",
       "      <td>837.175251</td>\n",
       "    </tr>\n",
       "    <tr>\n",
       "      <th>4</th>\n",
       "      <td>0</td>\n",
       "      <td>0</td>\n",
       "      <td>1</td>\n",
       "      <td>4</td>\n",
       "      <td>930.076541</td>\n",
       "      <td>897.167475</td>\n",
       "      <td>856.459905</td>\n",
       "      <td>836.399490</td>\n",
       "    </tr>\n",
       "  </tbody>\n",
       "</table>\n",
       "</div>"
      ],
      "text/plain": [
       "   CompanyName  Financial Department  Financial AccountGroup  VendorName  \\\n",
       "0            0                     0                       0           0   \n",
       "1            0                     0                       0           1   \n",
       "2            0                     0                       0           2   \n",
       "3            0                     0                       0           3   \n",
       "4            0                     0                       1           4   \n",
       "\n",
       "   Amount Month 1  Amount Month 2  Amount Month 3  Amount Month 4  \n",
       "0      930.076541      897.167475      855.332105      837.175251  \n",
       "1      929.726216      897.167475      856.459905      837.175251  \n",
       "2      930.076541      897.167475      856.459905      837.096763  \n",
       "3      926.513586      897.167475      856.459905      837.175251  \n",
       "4      930.076541      897.167475      856.459905      836.399490  "
      ]
     },
     "execution_count": 33,
     "metadata": {},
     "output_type": "execute_result"
    }
   ],
   "source": [
    "X.head()"
   ]
  },
  {
   "cell_type": "code",
   "execution_count": 34,
   "metadata": {},
   "outputs": [
    {
     "data": {
      "text/plain": [
       "0    0\n",
       "1    0\n",
       "2    0\n",
       "3    0\n",
       "4    0\n",
       "Name: Category, dtype: int64"
      ]
     },
     "execution_count": 34,
     "metadata": {},
     "output_type": "execute_result"
    }
   ],
   "source": [
    "y.head()"
   ]
  },
  {
   "cell_type": "code",
   "execution_count": 35,
   "metadata": {},
   "outputs": [
    {
     "data": {
      "text/plain": [
       "Index(['CompanyName', 'Financial Department', 'Financial AccountGroup',\n",
       "       'VendorName', 'Amount Month 1', 'Amount Month 2', 'Amount Month 3',\n",
       "       'Amount Month 4', 'Category'],\n",
       "      dtype='object')"
      ]
     },
     "execution_count": 35,
     "metadata": {},
     "output_type": "execute_result"
    }
   ],
   "source": [
    "df_copy.columns"
   ]
  },
  {
   "cell_type": "code",
   "execution_count": 36,
   "metadata": {},
   "outputs": [
    {
     "data": {
      "image/png": "[encoded data removed]",
      "text/plain": [
       "<Figure size 1296x1296 with 2 Axes>"
      ]
     },
     "metadata": {
      "needs_background": "light"
     },
     "output_type": "display_data"
    }
   ],
   "source": [
    "# Finds the correlation between the independent and dependent features:\n",
    "\n",
    "plt.figure(figsize=(18,18))\n",
    "sns.heatmap(df_copy.corr(),annot=True,cmap='RdYlGn')\n",
    "plt.show()"
   ]
  },
  {
   "cell_type": "code",
   "execution_count": 37,
   "metadata": {},
   "outputs": [
    {
     "data": {
      "text/plain": [
       "ExtraTreesRegressor()"
      ]
     },
     "execution_count": 37,
     "metadata": {},
     "output_type": "execute_result"
    }
   ],
   "source": [
    "## Importance feature using ExtraTreesRegressor:\n",
    "\n",
    "from sklearn.ensemble import ExtraTreesRegressor\n",
    "selection=ExtraTreesRegressor()\n",
    "selection.fit(X,y)"
   ]
  },
  {
   "cell_type": "code",
   "execution_count": 38,
   "metadata": {},
   "outputs": [
    {
     "name": "stdout",
     "output_type": "stream",
     "text": [
      "[0.05391559 0.03541954 0.05697212 0.07180082 0.04884135 0.05333977\n",
      " 0.35941277 0.32029804]\n"
     ]
    }
   ],
   "source": [
    "print(selection.feature_importances_)"
   ]
  },
  {
   "cell_type": "code",
   "execution_count": 39,
   "metadata": {},
   "outputs": [
    {
     "data": {
      "image/png": "[encoded data removed]",
      "text/plain": [
       "<Figure size 864x576 with 1 Axes>"
      ]
     },
     "metadata": {
      "needs_background": "light"
     },
     "output_type": "display_data"
    }
   ],
   "source": [
    "# plotting the importance features:\n",
    "\n",
    "plt.figure(figsize=(12,8))\n",
    "feat_import=pd.Series(selection.feature_importances_,index=X.columns)\n",
    "feat_import.nlargest(20).plot.barh()\n",
    "plt.show()"
   ]
  },
  {
   "cell_type": "markdown",
   "metadata": {},
   "source": [
    "# Buliding the model"
   ]
  },
  {
   "cell_type": "code",
   "execution_count": 40,
   "metadata": {},
   "outputs": [],
   "source": [
    "from sklearn.model_selection import train_test_split\n",
    "\n",
    "X_train,X_test,y_train,y_test=train_test_split(X,y,test_size=0.2,random_state=42)"
   ]
  },
  {
   "cell_type": "code",
   "execution_count": 85,
   "metadata": {},
   "outputs": [],
   "source": [
    "from sklearn.preprocessing import StandardScaler\n",
    "scaler = StandardScaler()\n",
    "X_train = scaler.fit_transform(X_train)\n",
    "X_test = scaler.transform(X_test)"
   ]
  },
  {
   "cell_type": "code",
   "execution_count": 41,
   "metadata": {},
   "outputs": [
    {
     "data": {
      "text/plain": [
       "((2954, 8), (2954,), (739, 8), (739,))"
      ]
     },
     "execution_count": 41,
     "metadata": {},
     "output_type": "execute_result"
    }
   ],
   "source": [
    "X_train.shape,y_train.shape,X_test.shape,y_test.shape"
   ]
  },
  {
   "cell_type": "code",
   "execution_count": 42,
   "metadata": {},
   "outputs": [
    {
     "data": {
      "text/plain": [
       "KNeighborsClassifier()"
      ]
     },
     "execution_count": 42,
     "metadata": {},
     "output_type": "execute_result"
    }
   ],
   "source": [
    "## KNeighbour Regression:\n",
    "\n",
    "from sklearn.neighbors import KNeighborsClassifier\n",
    "knn= KNeighborsClassifier()\n",
    "knn.fit(X_train,y_train)"
   ]
  },
  {
   "cell_type": "code",
   "execution_count": 43,
   "metadata": {},
   "outputs": [
    {
     "data": {
      "text/plain": [
       "array([0, 0, 0, 0, 0, 0, 0, 0, 0, 0], dtype=int64)"
      ]
     },
     "execution_count": 43,
     "metadata": {},
     "output_type": "execute_result"
    }
   ],
   "source": [
    "y_preds=knn.predict(X_test)\n",
    "y_preds[:10]"
   ]
  },
  {
   "cell_type": "code",
   "execution_count": 44,
   "metadata": {},
   "outputs": [
    {
     "data": {
      "text/plain": [
       "0.8971583220568335"
      ]
     },
     "execution_count": 44,
     "metadata": {},
     "output_type": "execute_result"
    }
   ],
   "source": [
    "from sklearn.metrics import accuracy_score,confusion_matrix,f1_score,precision_score\n",
    "accuracy_score(y_test,y_preds)"
   ]
  },
  {
   "cell_type": "code",
   "execution_count": 45,
   "metadata": {},
   "outputs": [
    {
     "data": {
      "text/plain": [
       "array([[626,   4,   0,   4,   1],\n",
       "       [ 19,  16,   0,   2,   1],\n",
       "       [ 16,   0,   8,   0,   0],\n",
       "       [ 22,   1,   3,  13,   0],\n",
       "       [  0,   2,   1,   0,   0]], dtype=int64)"
      ]
     },
     "execution_count": 45,
     "metadata": {},
     "output_type": "execute_result"
    }
   ],
   "source": [
    "confusion_matrix(y_test,y_preds)"
   ]
  },
  {
   "cell_type": "code",
   "execution_count": 46,
   "metadata": {},
   "outputs": [
    {
     "data": {
      "image/png": "[encoded data removed]",
      "text/plain": [
       "<Figure size 576x576 with 2 Axes>"
      ]
     },
     "metadata": {},
     "output_type": "display_data"
    }
   ],
   "source": [
    "sns.set(font_scale=1.5)\n",
    "\n",
    "def plot_con_mat(y_preds,y_test):\n",
    "    \"\"\"\n",
    "    Plotting the confusion matrix with tht help of heatmap\n",
    "    \"\"\"\n",
    "    fig,ax=plt.subplots(figsize=(8,8))\n",
    "    ax=sns.heatmap(confusion_matrix(y_preds,y_test),\n",
    "                  annot=True,\n",
    "                  cbar=True,fmt='d')\n",
    "    plt.xlabel('Predicted value')\n",
    "    plt.ylabel('True labels')\n",
    "    \n",
    "plot_con_mat(y_preds,y_test)"
   ]
  },
  {
   "cell_type": "code",
   "execution_count": 47,
   "metadata": {},
   "outputs": [
    {
     "data": {
      "text/plain": [
       "RandomForestClassifier(max_features=5)"
      ]
     },
     "execution_count": 47,
     "metadata": {},
     "output_type": "execute_result"
    }
   ],
   "source": [
    "from sklearn.ensemble import RandomForestClassifier\n",
    "rf=RandomForestClassifier(n_estimators=100,max_features=5)\n",
    "rf.fit(X_train,y_train)"
   ]
  },
  {
   "cell_type": "code",
   "execution_count": 48,
   "metadata": {},
   "outputs": [
    {
     "data": {
      "text/plain": [
       "array([0, 0, 0, 0, 0, 0, 0, 0, 0, 0], dtype=int64)"
      ]
     },
     "execution_count": 48,
     "metadata": {},
     "output_type": "execute_result"
    }
   ],
   "source": [
    "y_pred=rf.predict(X_test)\n",
    "y_pred[:10]"
   ]
  },
  {
   "cell_type": "code",
   "execution_count": 49,
   "metadata": {},
   "outputs": [
    {
     "data": {
      "text/plain": [
       "1.0"
      ]
     },
     "execution_count": 49,
     "metadata": {},
     "output_type": "execute_result"
    }
   ],
   "source": [
    "rf.score(X_train,y_train)"
   ]
  },
  {
   "cell_type": "code",
   "execution_count": 50,
   "metadata": {},
   "outputs": [
    {
     "data": {
      "text/plain": [
       "0.9715832205683356"
      ]
     },
     "execution_count": 50,
     "metadata": {},
     "output_type": "execute_result"
    }
   ],
   "source": [
    "rf.score(X_test,y_test)"
   ]
  },
  {
   "cell_type": "code",
   "execution_count": 51,
   "metadata": {},
   "outputs": [
    {
     "data": {
      "text/plain": [
       "0.9715832205683356"
      ]
     },
     "execution_count": 51,
     "metadata": {},
     "output_type": "execute_result"
    }
   ],
   "source": [
    "from sklearn.metrics import accuracy_score\n",
    "accuracy_score(y_test,y_pred)"
   ]
  },
  {
   "cell_type": "code",
   "execution_count": 52,
   "metadata": {},
   "outputs": [
    {
     "data": {
      "text/plain": [
       "array([[628,   3,   1,   3,   0],\n",
       "       [  2,  35,   1,   0,   0],\n",
       "       [  1,   0,  23,   0,   0],\n",
       "       [  7,   0,   0,  32,   0],\n",
       "       [  0,   2,   1,   0,   0]], dtype=int64)"
      ]
     },
     "execution_count": 52,
     "metadata": {},
     "output_type": "execute_result"
    }
   ],
   "source": [
    "confusion_matrix(y_test,y_pred)"
   ]
  },
  {
   "cell_type": "code",
   "execution_count": 53,
   "metadata": {},
   "outputs": [
    {
     "data": {
      "image/png": "[encoded data removed]",
      "text/plain": [
       "<Figure size 576x576 with 2 Axes>"
      ]
     },
     "metadata": {},
     "output_type": "display_data"
    }
   ],
   "source": [
    "def plot_con_mat(y_pred,y_test):\n",
    "    \"\"\"\n",
    "    Plotting the confusion matrix with tht help of heatmap\n",
    "    \"\"\"\n",
    "    fig,ax=plt.subplots(figsize=(8,8))\n",
    "    ax=sns.heatmap(confusion_matrix(y_pred,y_test),\n",
    "                  annot=True,\n",
    "                  cbar=True,fmt='d')\n",
    "    plt.xlabel('Predicted value')\n",
    "    plt.ylabel('True labels')\n",
    "    \n",
    "plot_con_mat(y_pred,y_test)"
   ]
  },
  {
   "cell_type": "code",
   "execution_count": 54,
   "metadata": {},
   "outputs": [
    {
     "data": {
      "image/png": "[encoded data removed]",
      "text/plain": [
       "<Figure size 360x360 with 1 Axes>"
      ]
     },
     "metadata": {},
     "output_type": "display_data"
    }
   ],
   "source": [
    "sns.displot(y_test-y_pred)\n",
    "plt.show()"
   ]
  },
  {
   "cell_type": "code",
   "execution_count": 55,
   "metadata": {},
   "outputs": [
    {
     "name": "stdout",
     "output_type": "stream",
     "text": [
      "              precision    recall  f1-score   support\n",
      "\n",
      "           0       0.98      0.99      0.99       635\n",
      "           1       0.88      0.92      0.90        38\n",
      "           2       0.88      0.96      0.92        24\n",
      "           3       0.91      0.82      0.86        39\n",
      "           4       0.00      0.00      0.00         3\n",
      "\n",
      "    accuracy                           0.97       739\n",
      "   macro avg       0.73      0.74      0.73       739\n",
      "weighted avg       0.97      0.97      0.97       739\n",
      "\n"
     ]
    },
    {
     "name": "stderr",
     "output_type": "stream",
     "text": [
      "C:\\Users\\sathe\\anaconda3\\lib\\site-packages\\sklearn\\metrics\\_classification.py:1245: UndefinedMetricWarning: Precision and F-score are ill-defined and being set to 0.0 in labels with no predicted samples. Use `zero_division` parameter to control this behavior.\n",
      "  _warn_prf(average, modifier, msg_start, len(result))\n",
      "C:\\Users\\sathe\\anaconda3\\lib\\site-packages\\sklearn\\metrics\\_classification.py:1245: UndefinedMetricWarning: Precision and F-score are ill-defined and being set to 0.0 in labels with no predicted samples. Use `zero_division` parameter to control this behavior.\n",
      "  _warn_prf(average, modifier, msg_start, len(result))\n",
      "C:\\Users\\sathe\\anaconda3\\lib\\site-packages\\sklearn\\metrics\\_classification.py:1245: UndefinedMetricWarning: Precision and F-score are ill-defined and being set to 0.0 in labels with no predicted samples. Use `zero_division` parameter to control this behavior.\n",
      "  _warn_prf(average, modifier, msg_start, len(result))\n"
     ]
    }
   ],
   "source": [
    "from sklearn.metrics import classification_report\n",
    "print(classification_report(y_test,y_pred))"
   ]
  },
  {
   "cell_type": "code",
   "execution_count": 56,
   "metadata": {},
   "outputs": [
    {
     "data": {
      "text/plain": [
       "DecisionTreeClassifier()"
      ]
     },
     "execution_count": 56,
     "metadata": {},
     "output_type": "execute_result"
    }
   ],
   "source": [
    "from sklearn.tree import DecisionTreeClassifier\n",
    "dtc=DecisionTreeClassifier()\n",
    "dtc.fit(X_train,y_train)"
   ]
  },
  {
   "cell_type": "code",
   "execution_count": 57,
   "metadata": {},
   "outputs": [
    {
     "data": {
      "text/plain": [
       "array([0, 0, 0, 0, 0, 0, 0, 0, 0, 0], dtype=int64)"
      ]
     },
     "execution_count": 57,
     "metadata": {},
     "output_type": "execute_result"
    }
   ],
   "source": [
    "ypred=dtc.predict(X_test)\n",
    "ypred[:10]"
   ]
  },
  {
   "cell_type": "code",
   "execution_count": 58,
   "metadata": {},
   "outputs": [
    {
     "data": {
      "text/plain": [
       "0.952638700947226"
      ]
     },
     "execution_count": 58,
     "metadata": {},
     "output_type": "execute_result"
    }
   ],
   "source": [
    "accuracy_score(y_test,ypred)"
   ]
  },
  {
   "cell_type": "markdown",
   "metadata": {},
   "source": [
    "# Hyper Parameter Tuning:\n",
    "RandomizedSearchCV \n",
    "\n",
    "GridSearchCV\n",
    "\n",
    "fit the model"
   ]
  },
  {
   "cell_type": "code",
   "execution_count": 59,
   "metadata": {},
   "outputs": [],
   "source": [
    "from sklearn.model_selection import RandomizedSearchCV\n",
    "\n",
    "n_estimators=[int(x) for x in np.linspace(100,1200,12)]\n",
    "max_features= ['auto','sqrt']\n",
    "max_depth=[int(x) for x in np.linspace(5,30,6)]\n",
    "min_samples_split= [2,4,6,8,10,15]\n",
    "min_samples_leaf=[1,2,5,10]"
   ]
  },
  {
   "cell_type": "code",
   "execution_count": 60,
   "metadata": {},
   "outputs": [],
   "source": [
    "# Create the Grid parameters:\n",
    "\n",
    "random_grid={\n",
    "    'n_estimators': n_estimators,\n",
    "    'max_features': max_features,\n",
    "    'min_samples_split':min_samples_split,\n",
    "    'max_depth': max_depth,\n",
    "    'min_samples_leaf':min_samples_leaf\n",
    "}"
   ]
  },
  {
   "cell_type": "code",
   "execution_count": 61,
   "metadata": {},
   "outputs": [],
   "source": [
    "# apply the random_grid:\n",
    "from sklearn.model_selection import RandomizedSearchCV\n",
    "\n",
    "\n",
    "reg_rf=RandomizedSearchCV(estimator=rf,param_distributions=random_grid,scoring='accuracy',\n",
    "                      n_jobs=1)"
   ]
  },
  {
   "cell_type": "code",
   "execution_count": 62,
   "metadata": {},
   "outputs": [
    {
     "data": {
      "text/plain": [
       "RandomizedSearchCV(estimator=RandomForestClassifier(max_features=5), n_jobs=1,\n",
       "                   param_distributions={'max_depth': [5, 10, 15, 20, 25, 30],\n",
       "                                        'max_features': ['auto', 'sqrt'],\n",
       "                                        'min_samples_leaf': [1, 2, 5, 10],\n",
       "                                        'min_samples_split': [2, 4, 6, 8, 10,\n",
       "                                                              15],\n",
       "                                        'n_estimators': [100, 200, 300, 400,\n",
       "                                                         500, 600, 700, 800,\n",
       "                                                         900, 1000, 1100,\n",
       "                                                         1200]},\n",
       "                   scoring='accuracy')"
      ]
     },
     "execution_count": 62,
     "metadata": {},
     "output_type": "execute_result"
    }
   ],
   "source": [
    "reg_rf.fit(X_train,y_train)"
   ]
  },
  {
   "cell_type": "code",
   "execution_count": 63,
   "metadata": {},
   "outputs": [
    {
     "data": {
      "text/plain": [
       "{'n_estimators': 200,\n",
       " 'min_samples_split': 4,\n",
       " 'min_samples_leaf': 1,\n",
       " 'max_features': 'auto',\n",
       " 'max_depth': 30}"
      ]
     },
     "execution_count": 63,
     "metadata": {},
     "output_type": "execute_result"
    }
   ],
   "source": [
    "reg_rf.best_params_"
   ]
  },
  {
   "cell_type": "markdown",
   "metadata": {},
   "source": [
    "# Save the Model:"
   ]
  },
  {
   "cell_type": "code",
   "execution_count": 64,
   "metadata": {},
   "outputs": [
    {
     "ename": "NameError",
     "evalue": "name 'reg_gs' is not defined",
     "output_type": "error",
     "traceback": [
      "\u001b[1;31m---------------------------------------------------------------------------\u001b[0m",
      "\u001b[1;31mNameError\u001b[0m                                 Traceback (most recent call last)",
      "\u001b[1;32m<ipython-input-64-8fe76fed7af0>\u001b[0m in \u001b[0;36m<module>\u001b[1;34m\u001b[0m\n\u001b[1;32m----> 1\u001b[1;33m \u001b[0mprediction\u001b[0m\u001b[1;33m=\u001b[0m \u001b[0mreg_gs\u001b[0m\u001b[1;33m.\u001b[0m\u001b[0mpredict\u001b[0m\u001b[1;33m(\u001b[0m\u001b[0mX_test\u001b[0m\u001b[1;33m)\u001b[0m\u001b[1;33m\u001b[0m\u001b[1;33m\u001b[0m\u001b[0m\n\u001b[0m",
      "\u001b[1;31mNameError\u001b[0m: name 'reg_gs' is not defined"
     ]
    }
   ],
   "source": [
    "prediction= reg_rf.predict(X_test)"
   ]
  },
  {
   "cell_type": "code",
   "execution_count": null,
   "metadata": {},
   "outputs": [],
   "source": [
    "prediction[:10]"
   ]
  },
  {
   "cell_type": "code",
   "execution_count": 64,
   "metadata": {},
   "outputs": [],
   "source": [
    "import pickle\n",
    "\n",
    "file=open('model_rf.pkl','wb')\n",
    "\n",
    "# dump the data:\n",
    "\n",
    "pickle.dump(reg_rf,file)"
   ]
  },
  {
   "cell_type": "code",
   "execution_count": 65,
   "metadata": {},
   "outputs": [],
   "source": [
    "model=open('model_rf.pkl','rb')\n",
    "motor=pickle.load(model)"
   ]
  },
  {
   "cell_type": "code",
   "execution_count": 66,
   "metadata": {},
   "outputs": [],
   "source": [
    "y_predict=motor.predict(X_test)"
   ]
  },
  {
   "cell_type": "code",
   "execution_count": 67,
   "metadata": {},
   "outputs": [
    {
     "data": {
      "text/plain": [
       "0.9675236806495264"
      ]
     },
     "execution_count": 67,
     "metadata": {},
     "output_type": "execute_result"
    }
   ],
   "source": [
    "accuracy_score(y_test,y_predict)"
   ]
  },
  {
   "cell_type": "code",
   "execution_count": 68,
   "metadata": {},
   "outputs": [
    {
     "data": {
      "text/html": [
       "<div>\n",
       "<style scoped>\n",
       "    .dataframe tbody tr th:only-of-type {\n",
       "        vertical-align: middle;\n",
       "    }\n",
       "\n",
       "    .dataframe tbody tr th {\n",
       "        vertical-align: top;\n",
       "    }\n",
       "\n",
       "    .dataframe thead th {\n",
       "        text-align: right;\n",
       "    }\n",
       "</style>\n",
       "<table border=\"1\" class=\"dataframe\">\n",
       "  <thead>\n",
       "    <tr style=\"text-align: right;\">\n",
       "      <th></th>\n",
       "      <th>CompanyName</th>\n",
       "      <th>Financial Department</th>\n",
       "      <th>Financial AccountGroup</th>\n",
       "      <th>VendorName</th>\n",
       "      <th>Amount Month 1</th>\n",
       "      <th>Amount Month 2</th>\n",
       "      <th>Amount Month 3</th>\n",
       "      <th>Amount Month 4</th>\n",
       "    </tr>\n",
       "  </thead>\n",
       "  <tbody>\n",
       "    <tr>\n",
       "      <th>0</th>\n",
       "      <td>0</td>\n",
       "      <td>0</td>\n",
       "      <td>0</td>\n",
       "      <td>0</td>\n",
       "      <td>930.076541</td>\n",
       "      <td>897.003874</td>\n",
       "      <td>856.459905</td>\n",
       "      <td>837.175251</td>\n",
       "    </tr>\n",
       "    <tr>\n",
       "      <th>1</th>\n",
       "      <td>0</td>\n",
       "      <td>0</td>\n",
       "      <td>0</td>\n",
       "      <td>1</td>\n",
       "      <td>930.076541</td>\n",
       "      <td>888.450556</td>\n",
       "      <td>836.995193</td>\n",
       "      <td>818.672007</td>\n",
       "    </tr>\n",
       "    <tr>\n",
       "      <th>2</th>\n",
       "      <td>0</td>\n",
       "      <td>0</td>\n",
       "      <td>0</td>\n",
       "      <td>2</td>\n",
       "      <td>930.076541</td>\n",
       "      <td>895.639633</td>\n",
       "      <td>856.459905</td>\n",
       "      <td>837.175251</td>\n",
       "    </tr>\n",
       "    <tr>\n",
       "      <th>3</th>\n",
       "      <td>0</td>\n",
       "      <td>0</td>\n",
       "      <td>0</td>\n",
       "      <td>3</td>\n",
       "      <td>930.076541</td>\n",
       "      <td>897.167475</td>\n",
       "      <td>856.459905</td>\n",
       "      <td>837.175251</td>\n",
       "    </tr>\n",
       "    <tr>\n",
       "      <th>4</th>\n",
       "      <td>0</td>\n",
       "      <td>0</td>\n",
       "      <td>0</td>\n",
       "      <td>4</td>\n",
       "      <td>930.076541</td>\n",
       "      <td>897.167475</td>\n",
       "      <td>853.612419</td>\n",
       "      <td>837.175251</td>\n",
       "    </tr>\n",
       "  </tbody>\n",
       "</table>\n",
       "</div>"
      ],
      "text/plain": [
       "   CompanyName  Financial Department  Financial AccountGroup  VendorName  \\\n",
       "0            0                     0                       0           0   \n",
       "1            0                     0                       0           1   \n",
       "2            0                     0                       0           2   \n",
       "3            0                     0                       0           3   \n",
       "4            0                     0                       0           4   \n",
       "\n",
       "   Amount Month 1  Amount Month 2  Amount Month 3  Amount Month 4  \n",
       "0      930.076541      897.003874      856.459905      837.175251  \n",
       "1      930.076541      888.450556      836.995193      818.672007  \n",
       "2      930.076541      895.639633      856.459905      837.175251  \n",
       "3      930.076541      897.167475      856.459905      837.175251  \n",
       "4      930.076541      897.167475      853.612419      837.175251  "
      ]
     },
     "execution_count": 68,
     "metadata": {},
     "output_type": "execute_result"
    }
   ],
   "source": [
    "df1_copy.head()"
   ]
  },
  {
   "cell_type": "code",
   "execution_count": 69,
   "metadata": {},
   "outputs": [],
   "source": [
    "lst=[list(df1_copy.loc[i].values) for i in range(len(df1_copy))]"
   ]
  },
  {
   "cell_type": "code",
   "execution_count": 70,
   "metadata": {},
   "outputs": [
    {
     "data": {
      "text/plain": [
       "[0.0, 0.0, 0.0, 1.0, 930.0765408, 888.450556, 836.995193, 818.672007]"
      ]
     },
     "execution_count": 70,
     "metadata": {},
     "output_type": "execute_result"
    }
   ],
   "source": [
    "lst[1]"
   ]
  },
  {
   "cell_type": "code",
   "execution_count": 71,
   "metadata": {},
   "outputs": [
    {
     "name": "stdout",
     "output_type": "stream",
     "text": [
      "[0]\n"
     ]
    }
   ],
   "source": [
    "category=motor.predict([[0.0, 0.0, 0.0, 1.0, 930.0765408, 888.450556, 836.995193, 818.672007]])\n",
    "print(category)"
   ]
  },
  {
   "cell_type": "code",
   "execution_count": 72,
   "metadata": {},
   "outputs": [
    {
     "data": {
      "text/html": [
       "<div>\n",
       "<style scoped>\n",
       "    .dataframe tbody tr th:only-of-type {\n",
       "        vertical-align: middle;\n",
       "    }\n",
       "\n",
       "    .dataframe tbody tr th {\n",
       "        vertical-align: top;\n",
       "    }\n",
       "\n",
       "    .dataframe thead th {\n",
       "        text-align: right;\n",
       "    }\n",
       "</style>\n",
       "<table border=\"1\" class=\"dataframe\">\n",
       "  <thead>\n",
       "    <tr style=\"text-align: right;\">\n",
       "      <th></th>\n",
       "      <th>CompanyName</th>\n",
       "      <th>Financial Department</th>\n",
       "      <th>Financial AccountGroup</th>\n",
       "      <th>VendorName</th>\n",
       "      <th>Amount Month 1</th>\n",
       "      <th>Amount Month 2</th>\n",
       "      <th>Amount Month 3</th>\n",
       "      <th>Amount Month 4</th>\n",
       "      <th>Category</th>\n",
       "    </tr>\n",
       "  </thead>\n",
       "  <tbody>\n",
       "    <tr>\n",
       "      <th>0</th>\n",
       "      <td>B0</td>\n",
       "      <td>D0</td>\n",
       "      <td>C0</td>\n",
       "      <td>E0</td>\n",
       "      <td>930.076541</td>\n",
       "      <td>897.167475</td>\n",
       "      <td>855.332105</td>\n",
       "      <td>837.175251</td>\n",
       "      <td>X0</td>\n",
       "    </tr>\n",
       "    <tr>\n",
       "      <th>1</th>\n",
       "      <td>B0</td>\n",
       "      <td>D0</td>\n",
       "      <td>C0</td>\n",
       "      <td>E1</td>\n",
       "      <td>929.726216</td>\n",
       "      <td>897.167475</td>\n",
       "      <td>856.459905</td>\n",
       "      <td>837.175251</td>\n",
       "      <td>X0</td>\n",
       "    </tr>\n",
       "    <tr>\n",
       "      <th>2</th>\n",
       "      <td>B0</td>\n",
       "      <td>D0</td>\n",
       "      <td>C0</td>\n",
       "      <td>E2</td>\n",
       "      <td>930.076541</td>\n",
       "      <td>897.167475</td>\n",
       "      <td>856.459905</td>\n",
       "      <td>837.096763</td>\n",
       "      <td>X0</td>\n",
       "    </tr>\n",
       "    <tr>\n",
       "      <th>3</th>\n",
       "      <td>B0</td>\n",
       "      <td>D0</td>\n",
       "      <td>C0</td>\n",
       "      <td>E3</td>\n",
       "      <td>926.513586</td>\n",
       "      <td>897.167475</td>\n",
       "      <td>856.459905</td>\n",
       "      <td>837.175251</td>\n",
       "      <td>X0</td>\n",
       "    </tr>\n",
       "    <tr>\n",
       "      <th>4</th>\n",
       "      <td>B0</td>\n",
       "      <td>D0</td>\n",
       "      <td>C1</td>\n",
       "      <td>E4</td>\n",
       "      <td>930.076541</td>\n",
       "      <td>897.167475</td>\n",
       "      <td>856.459905</td>\n",
       "      <td>836.399490</td>\n",
       "      <td>X0</td>\n",
       "    </tr>\n",
       "  </tbody>\n",
       "</table>\n",
       "</div>"
      ],
      "text/plain": [
       "  CompanyName Financial Department Financial AccountGroup VendorName  \\\n",
       "0          B0                   D0                     C0         E0   \n",
       "1          B0                   D0                     C0         E1   \n",
       "2          B0                   D0                     C0         E2   \n",
       "3          B0                   D0                     C0         E3   \n",
       "4          B0                   D0                     C1         E4   \n",
       "\n",
       "   Amount Month 1  Amount Month 2  Amount Month 3  Amount Month 4 Category  \n",
       "0      930.076541      897.167475      855.332105      837.175251       X0  \n",
       "1      929.726216      897.167475      856.459905      837.175251       X0  \n",
       "2      930.076541      897.167475      856.459905      837.096763       X0  \n",
       "3      926.513586      897.167475      856.459905      837.175251       X0  \n",
       "4      930.076541      897.167475      856.459905      836.399490       X0  "
      ]
     },
     "execution_count": 72,
     "metadata": {},
     "output_type": "execute_result"
    }
   ],
   "source": [
    "data=pd.read_excel('Train_Data.xlsx')\n",
    "data.head()"
   ]
  },
  {
   "cell_type": "code",
   "execution_count": 73,
   "metadata": {},
   "outputs": [
    {
     "name": "stdout",
     "output_type": "stream",
     "text": [
      "0    0\n",
      "1    0\n",
      "2    0\n",
      "3    0\n",
      "4    0\n",
      "Name: Category, dtype: int64\n",
      "Index(['X0', 'X1', 'X2', 'X3', 'X4'], dtype='object')\n"
     ]
    }
   ],
   "source": [
    "factor = pd.factorize(data['Category'])\n",
    "data.Category = factor[0]\n",
    "definitions = factor[1]\n",
    "print(data.Category.head())\n",
    "print(definitions)"
   ]
  },
  {
   "cell_type": "code",
   "execution_count": 74,
   "metadata": {},
   "outputs": [
    {
     "data": {
      "text/plain": [
       "{0: 'X0', 1: 'X1', 2: 'X2', 3: 'X3', 4: 'X4'}"
      ]
     },
     "execution_count": 74,
     "metadata": {},
     "output_type": "execute_result"
    }
   ],
   "source": [
    "reversefactor = dict(zip(range(5),definitions))\n",
    "reversefactor"
   ]
  },
  {
   "cell_type": "code",
   "execution_count": 75,
   "metadata": {},
   "outputs": [],
   "source": [
    "Cat=[]\n",
    "for i in range(len(df1_copy)):\n",
    "    category= motor.predict([lst[i]])\n",
    "    Category= np.vectorize(reversefactor.get)(category)\n",
    "    Cat.append(Category)"
   ]
  },
  {
   "cell_type": "code",
   "execution_count": 76,
   "metadata": {},
   "outputs": [
    {
     "name": "stdout",
     "output_type": "stream",
     "text": [
      "None\n",
      "None\n",
      "None\n",
      "None\n",
      "None\n",
      "None\n",
      "None\n",
      "None\n",
      "None\n",
      "None\n",
      "None\n",
      "None\n",
      "None\n",
      "None\n",
      "None\n",
      "None\n",
      "None\n",
      "None\n",
      "None\n",
      "None\n",
      "None\n",
      "None\n",
      "None\n",
      "None\n",
      "None\n",
      "None\n",
      "None\n",
      "None\n",
      "None\n",
      "None\n",
      "None\n",
      "None\n",
      "None\n",
      "None\n",
      "None\n",
      "None\n",
      "None\n",
      "None\n",
      "None\n",
      "None\n",
      "None\n",
      "None\n",
      "None\n",
      "None\n",
      "None\n",
      "None\n",
      "None\n",
      "None\n",
      "None\n",
      "None\n",
      "None\n",
      "None\n",
      "None\n",
      "None\n",
      "None\n",
      "None\n",
      "None\n",
      "None\n",
      "None\n",
      "None\n",
      "None\n",
      "None\n",
      "None\n",
      "None\n",
      "None\n",
      "None\n",
      "None\n",
      "None\n",
      "None\n",
      "None\n",
      "None\n",
      "None\n",
      "None\n",
      "None\n",
      "None\n",
      "None\n",
      "None\n",
      "None\n",
      "None\n",
      "None\n",
      "None\n",
      "None\n",
      "None\n",
      "None\n",
      "None\n",
      "None\n",
      "None\n",
      "None\n",
      "None\n",
      "None\n",
      "None\n",
      "None\n",
      "None\n",
      "None\n",
      "None\n",
      "None\n",
      "None\n",
      "None\n",
      "None\n",
      "None\n",
      "None\n",
      "None\n",
      "None\n",
      "None\n",
      "None\n",
      "None\n",
      "None\n",
      "None\n",
      "None\n",
      "None\n",
      "None\n",
      "None\n",
      "None\n",
      "None\n",
      "None\n",
      "None\n",
      "None\n",
      "None\n",
      "None\n",
      "None\n",
      "None\n",
      "None\n",
      "None\n",
      "None\n",
      "None\n",
      "None\n",
      "None\n",
      "None\n",
      "None\n",
      "None\n",
      "None\n",
      "None\n",
      "None\n",
      "None\n",
      "None\n",
      "None\n",
      "None\n",
      "None\n",
      "None\n",
      "None\n",
      "None\n",
      "None\n",
      "None\n",
      "None\n",
      "None\n",
      "None\n",
      "None\n",
      "None\n",
      "None\n",
      "None\n",
      "None\n",
      "None\n",
      "None\n",
      "None\n",
      "None\n",
      "None\n",
      "None\n",
      "None\n",
      "None\n",
      "None\n",
      "None\n",
      "None\n",
      "None\n",
      "None\n",
      "None\n",
      "None\n",
      "None\n",
      "None\n",
      "None\n",
      "None\n",
      "None\n",
      "None\n",
      "None\n",
      "None\n",
      "None\n",
      "None\n",
      "None\n",
      "None\n",
      "None\n",
      "None\n",
      "None\n",
      "None\n",
      "None\n",
      "None\n",
      "None\n",
      "None\n",
      "None\n",
      "None\n",
      "None\n",
      "None\n",
      "None\n",
      "None\n",
      "None\n",
      "None\n",
      "None\n",
      "None\n",
      "None\n",
      "None\n",
      "None\n",
      "None\n",
      "None\n",
      "None\n",
      "None\n",
      "None\n",
      "None\n",
      "None\n",
      "None\n",
      "None\n",
      "None\n",
      "None\n",
      "None\n",
      "None\n",
      "None\n",
      "None\n",
      "None\n",
      "None\n",
      "None\n",
      "None\n",
      "None\n",
      "None\n",
      "None\n",
      "None\n",
      "None\n",
      "None\n",
      "None\n",
      "None\n",
      "None\n",
      "None\n",
      "None\n",
      "None\n",
      "None\n",
      "None\n",
      "None\n",
      "None\n",
      "None\n",
      "None\n",
      "None\n",
      "None\n",
      "None\n",
      "None\n",
      "None\n",
      "None\n",
      "None\n",
      "None\n",
      "None\n",
      "None\n",
      "None\n",
      "None\n",
      "None\n",
      "None\n",
      "None\n",
      "None\n",
      "None\n",
      "None\n",
      "None\n",
      "None\n",
      "None\n",
      "None\n",
      "None\n",
      "None\n",
      "None\n",
      "None\n",
      "None\n",
      "None\n",
      "None\n",
      "None\n",
      "None\n",
      "None\n",
      "None\n",
      "None\n",
      "None\n",
      "None\n",
      "None\n",
      "None\n",
      "None\n",
      "None\n",
      "None\n",
      "None\n",
      "None\n",
      "None\n",
      "None\n",
      "None\n",
      "None\n",
      "None\n",
      "None\n",
      "None\n",
      "None\n",
      "None\n",
      "None\n",
      "None\n",
      "None\n",
      "None\n",
      "None\n",
      "None\n",
      "None\n",
      "None\n",
      "None\n",
      "None\n",
      "None\n",
      "None\n",
      "None\n",
      "None\n",
      "None\n",
      "None\n",
      "None\n",
      "None\n",
      "None\n",
      "None\n",
      "None\n",
      "None\n",
      "None\n",
      "None\n",
      "None\n",
      "None\n",
      "None\n",
      "None\n",
      "None\n",
      "None\n",
      "None\n",
      "None\n",
      "None\n",
      "None\n",
      "None\n",
      "None\n",
      "None\n",
      "None\n",
      "None\n",
      "None\n",
      "None\n",
      "None\n",
      "None\n",
      "None\n",
      "None\n",
      "None\n",
      "None\n",
      "None\n",
      "None\n",
      "None\n",
      "None\n",
      "None\n",
      "None\n",
      "None\n",
      "None\n",
      "None\n",
      "None\n",
      "None\n",
      "None\n",
      "None\n",
      "None\n",
      "None\n",
      "None\n",
      "None\n",
      "None\n",
      "None\n",
      "None\n",
      "None\n",
      "None\n",
      "None\n",
      "None\n",
      "None\n",
      "None\n",
      "None\n",
      "None\n",
      "None\n",
      "None\n",
      "None\n",
      "None\n",
      "None\n",
      "None\n",
      "None\n",
      "None\n",
      "None\n",
      "None\n",
      "None\n",
      "None\n",
      "None\n",
      "None\n",
      "None\n",
      "None\n",
      "None\n",
      "None\n",
      "None\n",
      "None\n",
      "None\n",
      "None\n",
      "None\n",
      "None\n",
      "None\n",
      "None\n",
      "None\n",
      "None\n",
      "None\n",
      "None\n",
      "None\n",
      "None\n",
      "None\n",
      "None\n",
      "None\n",
      "None\n",
      "None\n",
      "None\n",
      "None\n",
      "None\n",
      "None\n",
      "None\n",
      "None\n",
      "None\n",
      "None\n",
      "None\n",
      "None\n",
      "None\n",
      "None\n",
      "None\n",
      "None\n",
      "None\n",
      "None\n",
      "None\n",
      "None\n",
      "None\n",
      "None\n",
      "None\n",
      "None\n",
      "None\n",
      "None\n",
      "None\n",
      "None\n",
      "None\n",
      "None\n",
      "None\n",
      "None\n",
      "None\n",
      "None\n",
      "None\n",
      "None\n",
      "None\n",
      "None\n",
      "None\n",
      "None\n",
      "None\n",
      "None\n",
      "None\n",
      "None\n",
      "None\n",
      "None\n",
      "None\n",
      "None\n",
      "None\n",
      "None\n",
      "None\n",
      "None\n",
      "None\n",
      "None\n",
      "None\n",
      "None\n",
      "None\n",
      "None\n",
      "None\n",
      "None\n",
      "None\n",
      "None\n",
      "None\n",
      "None\n",
      "None\n",
      "None\n",
      "None\n",
      "None\n",
      "None\n",
      "None\n",
      "None\n",
      "None\n",
      "None\n",
      "None\n",
      "None\n",
      "None\n",
      "None\n",
      "None\n",
      "None\n",
      "None\n",
      "None\n",
      "None\n",
      "None\n",
      "None\n",
      "None\n",
      "None\n",
      "None\n",
      "None\n",
      "None\n",
      "None\n",
      "None\n",
      "None\n",
      "None\n",
      "None\n",
      "None\n",
      "None\n",
      "None\n",
      "None\n",
      "None\n",
      "None\n",
      "None\n",
      "None\n",
      "None\n",
      "None\n",
      "None\n",
      "None\n",
      "None\n",
      "None\n",
      "None\n",
      "None\n",
      "None\n",
      "None\n",
      "None\n",
      "None\n",
      "None\n",
      "None\n",
      "None\n",
      "None\n",
      "None\n",
      "None\n",
      "None\n",
      "None\n",
      "None\n",
      "None\n",
      "None\n",
      "None\n",
      "None\n",
      "None\n",
      "None\n",
      "None\n",
      "None\n",
      "None\n",
      "None\n",
      "None\n",
      "None\n",
      "None\n",
      "None\n",
      "None\n",
      "None\n",
      "None\n",
      "None\n",
      "None\n",
      "None\n",
      "None\n",
      "None\n",
      "None\n",
      "None\n",
      "None\n",
      "None\n",
      "None\n",
      "None\n",
      "None\n",
      "None\n",
      "None\n",
      "None\n",
      "None\n",
      "None\n",
      "None\n",
      "None\n",
      "None\n",
      "None\n",
      "None\n",
      "None\n",
      "None\n",
      "None\n",
      "None\n",
      "None\n",
      "None\n",
      "None\n",
      "None\n",
      "None\n",
      "None\n",
      "None\n",
      "None\n",
      "None\n",
      "None\n",
      "None\n",
      "None\n",
      "None\n",
      "None\n",
      "None\n",
      "None\n",
      "None\n",
      "None\n",
      "None\n",
      "None\n",
      "None\n",
      "None\n",
      "None\n",
      "None\n",
      "None\n",
      "None\n",
      "None\n",
      "None\n",
      "None\n",
      "None\n",
      "None\n",
      "None\n",
      "None\n",
      "None\n",
      "None\n",
      "None\n",
      "None\n",
      "None\n",
      "None\n",
      "None\n",
      "None\n",
      "None\n",
      "None\n",
      "None\n",
      "None\n",
      "None\n",
      "None\n",
      "None\n",
      "None\n",
      "None\n",
      "None\n",
      "None\n",
      "None\n",
      "None\n",
      "None\n",
      "None\n",
      "None\n",
      "None\n",
      "None\n",
      "None\n",
      "None\n",
      "None\n",
      "None\n",
      "None\n",
      "None\n",
      "None\n",
      "None\n",
      "None\n",
      "None\n",
      "None\n",
      "None\n",
      "None\n",
      "None\n",
      "None\n",
      "None\n",
      "None\n",
      "None\n",
      "None\n",
      "None\n",
      "None\n",
      "None\n",
      "None\n",
      "None\n",
      "None\n",
      "None\n",
      "None\n",
      "None\n",
      "None\n",
      "None\n",
      "None\n",
      "None\n",
      "None\n",
      "None\n",
      "None\n",
      "None\n",
      "None\n",
      "None\n",
      "None\n",
      "None\n",
      "None\n",
      "None\n",
      "None\n",
      "None\n",
      "None\n",
      "None\n",
      "None\n",
      "None\n",
      "None\n",
      "None\n",
      "None\n",
      "None\n",
      "None\n",
      "None\n",
      "None\n",
      "None\n",
      "None\n",
      "None\n",
      "None\n",
      "None\n",
      "None\n",
      "None\n",
      "None\n",
      "None\n",
      "None\n",
      "None\n",
      "None\n",
      "None\n",
      "None\n",
      "None\n",
      "None\n",
      "None\n",
      "None\n",
      "None\n",
      "None\n",
      "None\n",
      "None\n",
      "None\n",
      "None\n",
      "None\n",
      "None\n",
      "None\n",
      "None\n",
      "None\n",
      "None\n",
      "None\n",
      "None\n",
      "None\n",
      "None\n",
      "None\n",
      "None\n",
      "None\n",
      "None\n",
      "None\n",
      "None\n",
      "None\n",
      "None\n",
      "None\n",
      "None\n",
      "None\n",
      "None\n",
      "None\n",
      "None\n",
      "None\n",
      "None\n",
      "None\n",
      "None\n",
      "None\n",
      "None\n",
      "None\n",
      "None\n",
      "None\n",
      "None\n",
      "None\n",
      "None\n",
      "None\n",
      "None\n",
      "None\n",
      "None\n",
      "None\n",
      "None\n",
      "None\n",
      "None\n",
      "None\n",
      "None\n",
      "None\n",
      "None\n",
      "None\n",
      "None\n",
      "None\n",
      "None\n",
      "None\n",
      "None\n",
      "None\n",
      "None\n",
      "None\n",
      "None\n",
      "None\n",
      "None\n",
      "None\n",
      "None\n",
      "None\n",
      "None\n",
      "None\n",
      "None\n",
      "None\n",
      "None\n",
      "None\n",
      "None\n",
      "None\n",
      "None\n",
      "None\n",
      "None\n",
      "None\n",
      "None\n",
      "None\n",
      "None\n",
      "None\n",
      "None\n",
      "None\n",
      "None\n",
      "None\n",
      "None\n",
      "None\n",
      "None\n",
      "None\n",
      "None\n",
      "None\n",
      "None\n",
      "None\n",
      "None\n",
      "None\n",
      "None\n",
      "None\n",
      "None\n",
      "None\n",
      "None\n",
      "None\n",
      "None\n",
      "None\n",
      "None\n",
      "None\n",
      "None\n",
      "None\n",
      "None\n",
      "None\n",
      "None\n",
      "None\n",
      "None\n",
      "None\n",
      "None\n",
      "None\n",
      "None\n",
      "None\n",
      "None\n",
      "None\n",
      "None\n",
      "None\n",
      "None\n",
      "None\n",
      "None\n",
      "None\n",
      "None\n",
      "None\n",
      "None\n",
      "None\n",
      "None\n",
      "None\n",
      "None\n",
      "None\n",
      "None\n",
      "None\n",
      "None\n",
      "None\n",
      "None\n",
      "None\n",
      "None\n",
      "None\n",
      "None\n",
      "None\n",
      "None\n",
      "None\n",
      "None\n",
      "None\n",
      "None\n",
      "None\n",
      "None\n",
      "None\n",
      "None\n",
      "None\n",
      "None\n",
      "None\n",
      "None\n",
      "None\n",
      "None\n",
      "None\n",
      "None\n",
      "None\n",
      "None\n",
      "None\n",
      "None\n",
      "None\n",
      "None\n",
      "None\n",
      "None\n",
      "None\n",
      "None\n",
      "None\n",
      "None\n",
      "None\n",
      "None\n",
      "None\n",
      "None\n",
      "None\n",
      "None\n",
      "None\n",
      "None\n",
      "None\n",
      "None\n",
      "None\n",
      "None\n",
      "None\n",
      "None\n",
      "None\n",
      "None\n",
      "None\n",
      "None\n",
      "None\n",
      "None\n",
      "None\n",
      "None\n",
      "None\n",
      "None\n",
      "None\n",
      "None\n",
      "None\n",
      "None\n",
      "None\n",
      "None\n",
      "None\n",
      "None\n",
      "None\n",
      "None\n",
      "None\n",
      "None\n",
      "None\n",
      "None\n",
      "None\n",
      "None\n",
      "None\n",
      "None\n",
      "None\n",
      "None\n",
      "None\n",
      "None\n",
      "None\n",
      "None\n",
      "None\n",
      "None\n",
      "None\n",
      "None\n",
      "None\n",
      "None\n",
      "None\n",
      "None\n",
      "None\n",
      "None\n",
      "None\n",
      "None\n",
      "None\n",
      "None\n",
      "None\n",
      "None\n",
      "None\n",
      "None\n",
      "None\n",
      "None\n",
      "None\n",
      "None\n",
      "None\n",
      "None\n",
      "None\n",
      "None\n",
      "None\n",
      "None\n",
      "None\n",
      "None\n",
      "None\n",
      "None\n",
      "None\n",
      "None\n",
      "None\n",
      "None\n",
      "None\n",
      "None\n",
      "None\n",
      "None\n",
      "None\n",
      "None\n",
      "None\n",
      "None\n",
      "None\n",
      "None\n",
      "None\n",
      "None\n",
      "None\n",
      "None\n",
      "None\n",
      "None\n",
      "None\n",
      "None\n",
      "None\n",
      "None\n",
      "None\n",
      "None\n",
      "None\n",
      "None\n",
      "None\n",
      "None\n",
      "None\n",
      "None\n",
      "None\n",
      "None\n",
      "None\n",
      "None\n",
      "None\n",
      "None\n",
      "None\n",
      "None\n",
      "None\n",
      "None\n",
      "None\n",
      "None\n",
      "None\n",
      "None\n",
      "None\n",
      "None\n",
      "None\n",
      "None\n",
      "None\n",
      "None\n",
      "None\n",
      "None\n",
      "None\n",
      "None\n",
      "None\n",
      "None\n",
      "None\n",
      "None\n",
      "None\n",
      "None\n",
      "None\n",
      "None\n",
      "None\n",
      "None\n",
      "None\n",
      "None\n",
      "None\n",
      "None\n",
      "None\n",
      "None\n",
      "None\n"
     ]
    }
   ],
   "source": [
    "Category=[]\n",
    "for i in range(len(Cat)):    \n",
    "    category=Cat[i]\n",
    "    print(Category.append(category))"
   ]
  },
  {
   "cell_type": "code",
   "execution_count": 77,
   "metadata": {},
   "outputs": [],
   "source": [
    "final=pd.DataFrame(Category,columns=['Category'])"
   ]
  },
  {
   "cell_type": "code",
   "execution_count": 78,
   "metadata": {},
   "outputs": [
    {
     "data": {
      "text/html": [
       "<div>\n",
       "<style scoped>\n",
       "    .dataframe tbody tr th:only-of-type {\n",
       "        vertical-align: middle;\n",
       "    }\n",
       "\n",
       "    .dataframe tbody tr th {\n",
       "        vertical-align: top;\n",
       "    }\n",
       "\n",
       "    .dataframe thead th {\n",
       "        text-align: right;\n",
       "    }\n",
       "</style>\n",
       "<table border=\"1\" class=\"dataframe\">\n",
       "  <thead>\n",
       "    <tr style=\"text-align: right;\">\n",
       "      <th></th>\n",
       "      <th>Category</th>\n",
       "    </tr>\n",
       "  </thead>\n",
       "  <tbody>\n",
       "    <tr>\n",
       "      <th>0</th>\n",
       "      <td>X0</td>\n",
       "    </tr>\n",
       "    <tr>\n",
       "      <th>1</th>\n",
       "      <td>X0</td>\n",
       "    </tr>\n",
       "    <tr>\n",
       "      <th>2</th>\n",
       "      <td>X0</td>\n",
       "    </tr>\n",
       "    <tr>\n",
       "      <th>3</th>\n",
       "      <td>X0</td>\n",
       "    </tr>\n",
       "    <tr>\n",
       "      <th>4</th>\n",
       "      <td>X0</td>\n",
       "    </tr>\n",
       "    <tr>\n",
       "      <th>...</th>\n",
       "      <td>...</td>\n",
       "    </tr>\n",
       "    <tr>\n",
       "      <th>1020</th>\n",
       "      <td>X0</td>\n",
       "    </tr>\n",
       "    <tr>\n",
       "      <th>1021</th>\n",
       "      <td>X0</td>\n",
       "    </tr>\n",
       "    <tr>\n",
       "      <th>1022</th>\n",
       "      <td>X2</td>\n",
       "    </tr>\n",
       "    <tr>\n",
       "      <th>1023</th>\n",
       "      <td>X0</td>\n",
       "    </tr>\n",
       "    <tr>\n",
       "      <th>1024</th>\n",
       "      <td>X0</td>\n",
       "    </tr>\n",
       "  </tbody>\n",
       "</table>\n",
       "<p>1025 rows × 1 columns</p>\n",
       "</div>"
      ],
      "text/plain": [
       "     Category\n",
       "0          X0\n",
       "1          X0\n",
       "2          X0\n",
       "3          X0\n",
       "4          X0\n",
       "...       ...\n",
       "1020       X0\n",
       "1021       X0\n",
       "1022       X2\n",
       "1023       X0\n",
       "1024       X0\n",
       "\n",
       "[1025 rows x 1 columns]"
      ]
     },
     "execution_count": 78,
     "metadata": {},
     "output_type": "execute_result"
    }
   ],
   "source": [
    "final"
   ]
  },
  {
   "cell_type": "code",
   "execution_count": 175,
   "metadata": {},
   "outputs": [
    {
     "data": {
      "text/plain": [
       "3693"
      ]
     },
     "execution_count": 175,
     "metadata": {},
     "output_type": "execute_result"
    }
   ],
   "source": [
    "len(df_copy)"
   ]
  },
  {
   "cell_type": "code",
   "execution_count": 178,
   "metadata": {},
   "outputs": [
    {
     "name": "stdout",
     "output_type": "stream",
     "text": [
      "0\n",
      "10\n",
      "20\n",
      "30\n",
      "40\n",
      "50\n",
      "60\n",
      "70\n",
      "80\n",
      "90\n"
     ]
    }
   ],
   "source": [
    "for i in range(10):\n",
    "    l=i*10\n",
    "    print(l)"
   ]
  },
  {
   "cell_type": "code",
   "execution_count": 79,
   "metadata": {},
   "outputs": [
    {
     "data": {
      "text/html": [
       "<div>\n",
       "<style scoped>\n",
       "    .dataframe tbody tr th:only-of-type {\n",
       "        vertical-align: middle;\n",
       "    }\n",
       "\n",
       "    .dataframe tbody tr th {\n",
       "        vertical-align: top;\n",
       "    }\n",
       "\n",
       "    .dataframe thead th {\n",
       "        text-align: right;\n",
       "    }\n",
       "</style>\n",
       "<table border=\"1\" class=\"dataframe\">\n",
       "  <thead>\n",
       "    <tr style=\"text-align: right;\">\n",
       "      <th></th>\n",
       "      <th>CompanyName</th>\n",
       "      <th>Financial Department</th>\n",
       "      <th>Financial AccountGroup</th>\n",
       "      <th>VendorName</th>\n",
       "      <th>Amount Month 1</th>\n",
       "      <th>Amount Month 2</th>\n",
       "      <th>Amount Month 3</th>\n",
       "      <th>Amount Month 4</th>\n",
       "      <th>Category</th>\n",
       "    </tr>\n",
       "  </thead>\n",
       "  <tbody>\n",
       "    <tr>\n",
       "      <th>0</th>\n",
       "      <td>B6</td>\n",
       "      <td>D1</td>\n",
       "      <td>C0</td>\n",
       "      <td>E134</td>\n",
       "      <td>930.076541</td>\n",
       "      <td>897.003874</td>\n",
       "      <td>856.459905</td>\n",
       "      <td>837.175251</td>\n",
       "      <td>X0</td>\n",
       "    </tr>\n",
       "    <tr>\n",
       "      <th>1</th>\n",
       "      <td>B6</td>\n",
       "      <td>D1</td>\n",
       "      <td>C0</td>\n",
       "      <td>E1293</td>\n",
       "      <td>930.076541</td>\n",
       "      <td>888.450556</td>\n",
       "      <td>836.995193</td>\n",
       "      <td>818.672007</td>\n",
       "      <td>X0</td>\n",
       "    </tr>\n",
       "    <tr>\n",
       "      <th>2</th>\n",
       "      <td>B6</td>\n",
       "      <td>D1</td>\n",
       "      <td>C0</td>\n",
       "      <td>E390</td>\n",
       "      <td>930.076541</td>\n",
       "      <td>895.639633</td>\n",
       "      <td>856.459905</td>\n",
       "      <td>837.175251</td>\n",
       "      <td>X0</td>\n",
       "    </tr>\n",
       "    <tr>\n",
       "      <th>3</th>\n",
       "      <td>B6</td>\n",
       "      <td>D1</td>\n",
       "      <td>C0</td>\n",
       "      <td>E1294</td>\n",
       "      <td>930.076541</td>\n",
       "      <td>897.167475</td>\n",
       "      <td>856.459905</td>\n",
       "      <td>837.175251</td>\n",
       "      <td>X0</td>\n",
       "    </tr>\n",
       "    <tr>\n",
       "      <th>4</th>\n",
       "      <td>B6</td>\n",
       "      <td>D1</td>\n",
       "      <td>C0</td>\n",
       "      <td>E1295</td>\n",
       "      <td>930.076541</td>\n",
       "      <td>897.167475</td>\n",
       "      <td>853.612419</td>\n",
       "      <td>837.175251</td>\n",
       "      <td>X0</td>\n",
       "    </tr>\n",
       "  </tbody>\n",
       "</table>\n",
       "</div>"
      ],
      "text/plain": [
       "  CompanyName Financial Department Financial AccountGroup VendorName  \\\n",
       "0          B6                   D1                     C0       E134   \n",
       "1          B6                   D1                     C0      E1293   \n",
       "2          B6                   D1                     C0       E390   \n",
       "3          B6                   D1                     C0      E1294   \n",
       "4          B6                   D1                     C0      E1295   \n",
       "\n",
       "   Amount Month 1  Amount Month 2  Amount Month 3  Amount Month 4 Category  \n",
       "0      930.076541      897.003874      856.459905      837.175251       X0  \n",
       "1      930.076541      888.450556      836.995193      818.672007       X0  \n",
       "2      930.076541      895.639633      856.459905      837.175251       X0  \n",
       "3      930.076541      897.167475      856.459905      837.175251       X0  \n",
       "4      930.076541      897.167475      853.612419      837.175251       X0  "
      ]
     },
     "execution_count": 79,
     "metadata": {},
     "output_type": "execute_result"
    }
   ],
   "source": [
    "data_final=pd.concat([df1,final],axis=1)\n",
    "data_final.head()"
   ]
  },
  {
   "cell_type": "code",
   "execution_count": 80,
   "metadata": {},
   "outputs": [],
   "source": [
    "data_final.to_excel('Final_Test_Data.xlsx')"
   ]
  },
  {
   "cell_type": "code",
   "execution_count": 82,
   "metadata": {},
   "outputs": [
    {
     "data": {
      "text/plain": [
       "(array(['X0', 'X1', 'X2', 'X3'], dtype=object),\n",
       " array([932,  49,  28,  16], dtype=int64))"
      ]
     },
     "execution_count": 82,
     "metadata": {},
     "output_type": "execute_result"
    }
   ],
   "source": [
    "np.unique(final,return_counts=True)"
   ]
  },
  {
   "cell_type": "code",
   "execution_count": null,
   "metadata": {},
   "outputs": [],
   "source": []
  }
 ],
 "metadata": {
  "kernelspec": {
   "display_name": "Python 3",
   "language": "python",
   "name": "python3"
  },
  "language_info": {
   "codemirror_mode": {
    "name": "ipython",
    "version": 3
   },
   "file_extension": ".py",
   "mimetype": "text/x-python",
   "name": "python",
   "nbconvert_exporter": "python",
   "pygments_lexer": "ipython3",
   "version": "3.8.5"
  }
 },
 "nbformat": 4,
 "nbformat_minor": 4
}
